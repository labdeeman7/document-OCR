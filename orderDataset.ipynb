{
 "cells": [
  {
   "cell_type": "code",
   "execution_count": 26,
   "metadata": {},
   "outputs": [],
   "source": [
    "import os\n",
    "import random\n",
    "from PIL import Image"
   ]
  },
  {
   "cell_type": "code",
   "execution_count": null,
   "metadata": {},
   "outputs": [],
   "source": [
    "# parser = argparse.ArgumentParser()\n",
    "# parser.add_argument('--data_dir', default='data/SIGNS', help=\"Directory with the SIGNS dataset\")\n",
    "# parser.add_argument('--output_dir', default='data/64x64_SIGNS', help=\"Where to write the new data\")"
   ]
  },
  {
   "cell_type": "code",
   "execution_count": null,
   "metadata": {},
   "outputs": [],
   "source": [
    "# assert os.path.isdir(args.data_dir), \"Couldn't find the dataset at {}\".format(args.data_dir)"
   ]
  },
  {
   "cell_type": "code",
   "execution_count": null,
   "metadata": {},
   "outputs": [],
   "source": [
    "# if not os.path.exists(args.output_dir):\n",
    "#         os.mkdir(args.output_dir)\n",
    "#     else:\n",
    "#         print(\"Warning: output dir {} already exists\".format(args.output_dir))"
   ]
  },
  {
   "cell_type": "code",
   "execution_count": 27,
   "metadata": {},
   "outputs": [
    {
     "name": "stdout",
     "output_type": "stream",
     "text": [
      "The current working directory is C:\\Users\\Techspecialist\\Desktop\\AI saturday\\document ocr\\project document ocr\n"
     ]
    }
   ],
   "source": [
    "path = os.getcwd()  \n",
    "print (\"The current working directory is {}\" .format(path))  "
   ]
  },
  {
   "cell_type": "code",
   "execution_count": 45,
   "metadata": {},
   "outputs": [
    {
     "name": "stdout",
     "output_type": "stream",
     "text": [
      "['Advertisement', 'Email', 'Form', 'Letter', 'Memo', 'News', 'Note', 'Report', 'Resume', 'Scientific']\n"
     ]
    }
   ],
   "source": [
    "dataDir = \"Tobacco3482_1\"\n",
    "\n",
    "# path names for the original data, train and test data\n",
    "dataDirPath = os.path.join(path, dataDir)\n",
    "TrainDirPath = os.path.join(path, \"data/train\")\n",
    "TestDirPath = os.path.join(path, \"data/test\")\n",
    "ValDirPath = os.path.join(path, \"data/val\")\n",
    "\n",
    "subdirs = [o for o in os.listdir(dataDirPath) if os.path.isdir(os.path.join(dataDirPath,o))]\n",
    "\n",
    "print(subdirs)"
   ]
  },
  {
   "cell_type": "code",
   "execution_count": 73,
   "metadata": {},
   "outputs": [],
   "source": [
    "def split_dataset(filesInSubfolderPath, subfolderName):\n",
    "    random.seed(230)\n",
    "    filesInSubfolderPath.sort()\n",
    "    random.shuffle(filesInSubfolderPath)\n",
    "    split1 = int(0.7 * len(filesInSubfolderPath))\n",
    "    split2 = int(0.85 * len(filesInSubfolderPath))\n",
    "    train_filenames = filesInSubfolderPath[:split1]\n",
    "    test_filenames = filesInSubfolderPath[split1:split2]\n",
    "    val_filenames = filesInSubfolderPath[split2:]\n",
    "    \n",
    "    newTrainDirSubfolderPath = os.path.join(TrainDirPath, subfolderName)\n",
    "    newTestDirSubfolderPath = os.path.join(TestDirPath, subfolderName)\n",
    "    newValDirSubfolderPath = os.path.join(ValDirPath, subfolderName)\n",
    "    \n",
    "    \n",
    "    for filename in train_filenames:\n",
    "        image = Image.open(filename)\n",
    "        image.save(os.path.join(newTrainDirSubfolderPath, filename.split('\\\\')[-1]))\n",
    "    \n",
    "    for filename in test_filenames:\n",
    "        image = Image.open(filename)\n",
    "        image.save(os.path.join(newTestDirSubfolderPath, filename.split('\\\\')[-1]))\n",
    "        \n",
    "    for filename in val_filenames:\n",
    "        image = Image.open(filename)\n",
    "        image.save(os.path.join(newValDirSubfolderPath, filename.split('\\\\')[-1]))\n"
   ]
  },
  {
   "cell_type": "code",
   "execution_count": null,
   "metadata": {},
   "outputs": [
    {
     "name": "stdout",
     "output_type": "stream",
     "text": [
      "230\n",
      "599\n",
      "431\n",
      "567\n",
      "620\n",
      "188\n"
     ]
    }
   ],
   "source": [
    "for subfolder in subdirs:\n",
    "    os.makedirs(os.path.join(TrainDirPath, subfolder))\n",
    "    os.makedirs(os.path.join(TestDirPath, subfolder))\n",
    "    os.makedirs(os.path.join(ValDirPath, subfolder))\n",
    "    \n",
    "    subfolderFilePath = os.path.join(dataDirPath,subfolder)\n",
    "    filesInSubfolder = os.listdir(subfolderFilePath)\n",
    "    filesInSubfolderPath = [os.path.join(subfolderFilePath, f) for f in filesInSubfolder if f.endswith('.tif')]\n",
    "    print(len(filesInSubfolderPath))\n",
    "    split_dataset(filesInSubfolderPath, subfolder)"
   ]
  },
  {
   "cell_type": "code",
   "execution_count": 40,
   "metadata": {},
   "outputs": [],
   "source": [
    "\n",
    "# advertisementFilePath = os.path.join(dataDirPath,subfolderNames[0])\n",
    "# filesInAdvertisement = os.listdir(advertisementFilePath)\n",
    "# filesInAdvertisementPath = [os.path.join(advertisementFilePath, f) for f in filesInAdvertisement]"
   ]
  },
  {
   "cell_type": "code",
   "execution_count": 41,
   "metadata": {},
   "outputs": [],
   "source": [
    "# random.seed(230)\n",
    "# filesInAdvertisementPath.sort()\n",
    "# random.shuffle(filesInAdvertisementPath)"
   ]
  },
  {
   "cell_type": "code",
   "execution_count": 48,
   "metadata": {},
   "outputs": [
    {
     "name": "stdout",
     "output_type": "stream",
     "text": [
      "C:\\Users\\Techspecialist\\Desktop\\AI saturday\\document ocr\\project document ocr\\Tobacco3482_1\\Advertisement\\91505342_5343.tif\n"
     ]
    }
   ],
   "source": [
    "# split = int(0.8 * len(filesInAdvertisementPath))\n",
    "# train_filenames = filesInAdvertisementPath[:split]\n",
    "# test_filenames = filesInAdvertisementPath[split:]\n",
    "# print (train_filenames[0])"
   ]
  },
  {
   "cell_type": "code",
   "execution_count": 95,
   "metadata": {},
   "outputs": [
    {
     "name": "stdout",
     "output_type": "stream",
     "text": [
      "C:\\Users\\Techspecialist\\Desktop\\AI saturday\\document ocr\\project document ocr\\Train\n",
      "C:\\Users\\Techspecialist\\Desktop\\AI saturday\\document ocr\\project document ocr\\Train\\Advertisement\n",
      "509136909+-6910.tif\n",
      "C:\\Users\\Techspecialist\\Desktop\\AI saturday\\document ocr\\project document ocr\\Train\\Advertisement\\509136909+-6910.tif\n"
     ]
    }
   ],
   "source": [
    "output_dir = os.path.join(TrainDirPath, \"Advertisement\")\n",
    "filename = train_filenames[1]\n",
    "print(TrainDirPath)\n",
    "print(output_dir)\n",
    "print(filename.split(\"\\\\\")[-1])\n",
    "print(os.path.join(output_dir, filename.split('\\\\')[-1]))\n",
    "image = Image.open(filename)\n",
    "image.show()\n",
    "# Use bilinear interpolation instead of the default \"nearest neighbor\" method\n",
    "image.save(os.path.join(output_dir, filename.split('\\\\')[-1]))"
   ]
  },
  {
   "cell_type": "code",
   "execution_count": null,
   "metadata": {},
   "outputs": [],
   "source": []
  }
 ],
 "metadata": {
  "kernelspec": {
   "display_name": "Python 3",
   "language": "python",
   "name": "python3"
  },
  "language_info": {
   "codemirror_mode": {
    "name": "ipython",
    "version": 3
   },
   "file_extension": ".py",
   "mimetype": "text/x-python",
   "name": "python",
   "nbconvert_exporter": "python",
   "pygments_lexer": "ipython3",
   "version": "3.6.4"
  }
 },
 "nbformat": 4,
 "nbformat_minor": 2
}
