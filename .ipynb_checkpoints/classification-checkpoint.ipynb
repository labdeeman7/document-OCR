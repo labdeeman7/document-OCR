{
 "cells": [
  {
   "cell_type": "markdown",
   "metadata": {
    "colab_type": "text",
    "id": "bh9ZWF0qxMQ5"
   },
   "source": [
    "# Solution for classification of documents\n"
   ]
  },
  {
   "cell_type": "markdown",
   "metadata": {
    "colab_type": "text",
    "id": "ajOjHZ-FxXS9"
   },
   "source": [
    "## 1.1 Explanation\n",
    "We would be using the SGD classifier as well as a naive bayes classifier to classify new pictures of academic documents to one of our four classes. Most certificates and school documents are fairly similar, as most times all changes is either the name, year or class. I personally expect most classifiers to have extremely high accuracy scores for this application."
   ]
  },
  {
   "cell_type": "code",
   "execution_count": 1,
   "metadata": {
    "colab": {},
    "colab_type": "code",
    "id": "pjI4HFkCyl8W"
   },
   "outputs": [
    {
     "name": "stdout",
     "output_type": "stream",
     "text": [
      "The current working directory is C:\\Users\\Alabi Oluwatosin\\Documents\\Projects\\document-ocr\n"
     ]
    }
   ],
   "source": [
    "import os\n",
    "\n",
    "path = os.getcwd()  \n",
    "print (\"The current working directory is {}\" .format(path))"
   ]
  },
  {
   "cell_type": "code",
   "execution_count": 2,
   "metadata": {
    "colab": {},
    "colab_type": "code",
    "id": "PslwjnLDyyGE"
   },
   "outputs": [],
   "source": [
    "classes = [\"school_id\", \"french_club_award\", \"jet_club_award\", \"report_card\"]; \n",
    "dataFolders = [\"train\",\"test\",\"val\"];"
   ]
  },
  {
   "cell_type": "code",
   "execution_count": 3,
   "metadata": {
    "colab": {},
    "colab_type": "code",
    "id": "re0QpwBC0-Ij"
   },
   "outputs": [],
   "source": [
    "import shutil\n",
    "import os\n",
    "import random\n",
    "from pathlib import Path\n",
    "try:\n",
    "    from PIL import Image\n",
    "except ImportError:\n",
    "    import Image"
   ]
  },
  {
   "cell_type": "code",
   "execution_count": 4,
   "metadata": {
    "colab": {},
    "colab_type": "code",
    "id": "mw-UgOrL2bUv"
   },
   "outputs": [],
   "source": [
    "import pandas as pd\n",
    "import numpy as np\n",
    "import pickle\n",
    "from sklearn.preprocessing import LabelBinarizer\n",
    "import sklearn.datasets as skds\n",
    "from pathlib import Path"
   ]
  },
  {
   "cell_type": "markdown",
   "metadata": {
    "colab_type": "text",
    "id": "XEznmBSk6g11"
   },
   "source": [
    "## 1.2 Machine learning algorithms\n",
    "We would be using the naive bayes algorithm and the SGD classifier  to classify the documents\n",
    "\n"
   ]
  },
  {
   "cell_type": "code",
   "execution_count": 5,
   "metadata": {},
   "outputs": [],
   "source": [
    "extractedtrainData = pd.read_csv(\"train_data.csv\") \n",
    "extractedtestData = pd.read_csv(\"test_data.csv\")"
   ]
  },
  {
   "cell_type": "code",
   "execution_count": 6,
   "metadata": {
    "colab": {
     "base_uri": "https://localhost:8080/",
     "height": 202
    },
    "colab_type": "code",
    "id": "6dxqikRu2bi3",
    "outputId": "a75e927b-e2fb-43e6-fbb7-f1f9b6c25dcb"
   },
   "outputs": [
    {
     "data": {
      "text/html": [
       "<div>\n",
       "<style scoped>\n",
       "    .dataframe tbody tr th:only-of-type {\n",
       "        vertical-align: middle;\n",
       "    }\n",
       "\n",
       "    .dataframe tbody tr th {\n",
       "        vertical-align: top;\n",
       "    }\n",
       "\n",
       "    .dataframe thead th {\n",
       "        text-align: right;\n",
       "    }\n",
       "</style>\n",
       "<table border=\"1\" class=\"dataframe\">\n",
       "  <thead>\n",
       "    <tr style=\"text-align: right;\">\n",
       "      <th></th>\n",
       "      <th>file_name</th>\n",
       "      <th>extracted_information</th>\n",
       "      <th>class_name</th>\n",
       "    </tr>\n",
       "  </thead>\n",
       "  <tbody>\n",
       "    <tr>\n",
       "      <th>0</th>\n",
       "      <td>ID (11).txt</td>\n",
       "      <td>CHAPEL SCIENCE\\n\\nHIGH SCHOOL\\n\\n \\n\\neee JADE</td>\n",
       "      <td>school_id</td>\n",
       "    </tr>\n",
       "    <tr>\n",
       "      <th>1</th>\n",
       "      <td>ID (2).txt</td>\n",
       "      <td>CHAPEL SCIENCE\\n\\nHIGH SCHOOL\\n\\n \\n\\nTOLU FOLA</td>\n",
       "      <td>school_id</td>\n",
       "    </tr>\n",
       "    <tr>\n",
       "      <th>2</th>\n",
       "      <td>ID (6).txt</td>\n",
       "      <td>CHAPEL SCIENCE\\n\\nHIGH SCHOOL\\n\\n \\n\\nPanu SIMEON</td>\n",
       "      <td>school_id</td>\n",
       "    </tr>\n",
       "    <tr>\n",
       "      <th>3</th>\n",
       "      <td>ID (9).txt</td>\n",
       "      <td>CHAPEL SCIENCE\\n\\nHIGH SCHOOL\\n\\n \\n\\nFEMI QUADRI</td>\n",
       "      <td>school_id</td>\n",
       "    </tr>\n",
       "    <tr>\n",
       "      <th>4</th>\n",
       "      <td>french_participation (1).txt</td>\n",
       "      <td>Chapel Science High School awards\\n\\nfor parti...</td>\n",
       "      <td>french_club_award</td>\n",
       "    </tr>\n",
       "  </tbody>\n",
       "</table>\n",
       "</div>"
      ],
      "text/plain": [
       "                      file_name  \\\n",
       "0                   ID (11).txt   \n",
       "1                    ID (2).txt   \n",
       "2                    ID (6).txt   \n",
       "3                    ID (9).txt   \n",
       "4  french_participation (1).txt   \n",
       "\n",
       "                               extracted_information         class_name  \n",
       "0     CHAPEL SCIENCE\\n\\nHIGH SCHOOL\\n\\n \\n\\neee JADE          school_id  \n",
       "1    CHAPEL SCIENCE\\n\\nHIGH SCHOOL\\n\\n \\n\\nTOLU FOLA          school_id  \n",
       "2  CHAPEL SCIENCE\\n\\nHIGH SCHOOL\\n\\n \\n\\nPanu SIMEON          school_id  \n",
       "3  CHAPEL SCIENCE\\n\\nHIGH SCHOOL\\n\\n \\n\\nFEMI QUADRI          school_id  \n",
       "4  Chapel Science High School awards\\n\\nfor parti...  french_club_award  "
      ]
     },
     "execution_count": 6,
     "metadata": {},
     "output_type": "execute_result"
    }
   ],
   "source": [
    "extractedtrainData.head()"
   ]
  },
  {
   "cell_type": "code",
   "execution_count": 7,
   "metadata": {},
   "outputs": [
    {
     "data": {
      "text/html": [
       "<div>\n",
       "<style scoped>\n",
       "    .dataframe tbody tr th:only-of-type {\n",
       "        vertical-align: middle;\n",
       "    }\n",
       "\n",
       "    .dataframe tbody tr th {\n",
       "        vertical-align: top;\n",
       "    }\n",
       "\n",
       "    .dataframe thead th {\n",
       "        text-align: right;\n",
       "    }\n",
       "</style>\n",
       "<table border=\"1\" class=\"dataframe\">\n",
       "  <thead>\n",
       "    <tr style=\"text-align: right;\">\n",
       "      <th></th>\n",
       "      <th>file_name</th>\n",
       "      <th>extracted_information</th>\n",
       "      <th>class_name</th>\n",
       "    </tr>\n",
       "  </thead>\n",
       "  <tbody>\n",
       "    <tr>\n",
       "      <th>0</th>\n",
       "      <td>ID (12).txt</td>\n",
       "      <td>CHAPEL SCIENCE\\n\\nHIGH SCHOOL\\n\\n \\n\\nPenna SALA</td>\n",
       "      <td>school_id</td>\n",
       "    </tr>\n",
       "    <tr>\n",
       "      <th>1</th>\n",
       "      <td>ID (13).txt</td>\n",
       "      <td>CHAPEL SCIENCE\\n\\nHIGH SCHOOL\\n\\n \\n\\nYUSUF BELLO</td>\n",
       "      <td>school_id</td>\n",
       "    </tr>\n",
       "    <tr>\n",
       "      <th>2</th>\n",
       "      <td>ID (14).txt</td>\n",
       "      <td>CHAPEL SCIENCE\\n\\nHIGH SCHOOL\\n\\n \\n\\nAZEEZ BALA</td>\n",
       "      <td>school_id</td>\n",
       "    </tr>\n",
       "    <tr>\n",
       "      <th>3</th>\n",
       "      <td>ID.txt</td>\n",
       "      <td>CHAPEL SCIENCE\\n\\nHIGH SCHOOL\\n\\n \\n\\noa OLADEJI</td>\n",
       "      <td>school_id</td>\n",
       "    </tr>\n",
       "    <tr>\n",
       "      <th>4</th>\n",
       "      <td>french_participation (11).txt</td>\n",
       "      <td>Chapel Science High School awards\\n\\nfor parti...</td>\n",
       "      <td>french_club_award</td>\n",
       "    </tr>\n",
       "  </tbody>\n",
       "</table>\n",
       "</div>"
      ],
      "text/plain": [
       "                       file_name  \\\n",
       "0                    ID (12).txt   \n",
       "1                    ID (13).txt   \n",
       "2                    ID (14).txt   \n",
       "3                         ID.txt   \n",
       "4  french_participation (11).txt   \n",
       "\n",
       "                               extracted_information         class_name  \n",
       "0   CHAPEL SCIENCE\\n\\nHIGH SCHOOL\\n\\n \\n\\nPenna SALA          school_id  \n",
       "1  CHAPEL SCIENCE\\n\\nHIGH SCHOOL\\n\\n \\n\\nYUSUF BELLO          school_id  \n",
       "2   CHAPEL SCIENCE\\n\\nHIGH SCHOOL\\n\\n \\n\\nAZEEZ BALA          school_id  \n",
       "3   CHAPEL SCIENCE\\n\\nHIGH SCHOOL\\n\\n \\n\\noa OLADEJI          school_id  \n",
       "4  Chapel Science High School awards\\n\\nfor parti...  french_club_award  "
      ]
     },
     "execution_count": 7,
     "metadata": {},
     "output_type": "execute_result"
    }
   ],
   "source": [
    "extractedtestData.head()"
   ]
  },
  {
   "cell_type": "code",
   "execution_count": 8,
   "metadata": {
    "colab": {},
    "colab_type": "code",
    "id": "F5mF_dGqSd7K"
   },
   "outputs": [
    {
     "data": {
      "text/plain": [
       "LabelEncoder()"
      ]
     },
     "execution_count": 8,
     "metadata": {},
     "output_type": "execute_result"
    }
   ],
   "source": [
    "# Label encoding would be done on the class_name column before feeding the data to our classifiers\n",
    "from sklearn import preprocessing\n",
    "\n",
    "le = preprocessing.LabelEncoder()\n",
    "\n",
    "le.fit(extractedtrainData['class_name'])"
   ]
  },
  {
   "cell_type": "code",
   "execution_count": 9,
   "metadata": {},
   "outputs": [
    {
     "data": {
      "text/plain": [
       "['french_club_award', 'jet_club_award', 'report_card', 'school_id']"
      ]
     },
     "execution_count": 9,
     "metadata": {},
     "output_type": "execute_result"
    }
   ],
   "source": [
    "list(le.classes_)"
   ]
  },
  {
   "cell_type": "code",
   "execution_count": 10,
   "metadata": {},
   "outputs": [
    {
     "name": "stdout",
     "output_type": "stream",
     "text": [
      "[3 3 3 3 0 0 0 0 1 1 1 1 2 2 2 2]\n",
      "[3 3 3 3 0 0 0 0 1 1 1 1 2 2 2 2]\n"
     ]
    }
   ],
   "source": [
    "label_index = le.transform(extractedtrainData['class_name']) \n",
    "test_label_index = le.transform(extractedtestData['class_name']) \n",
    "print(label_index)\n",
    "print(test_label_index)"
   ]
  },
  {
   "cell_type": "code",
   "execution_count": 11,
   "metadata": {
    "colab": {
     "base_uri": "https://localhost:8080/",
     "height": 35
    },
    "colab_type": "code",
    "id": "PiSz9NYQ2bn7",
    "outputId": "d7e4ecf4-0e0c-471c-f777-fdd62a3a0eff"
   },
   "outputs": [
    {
     "name": "stdout",
     "output_type": "stream",
     "text": [
      "(16,)\n",
      "(16,)\n"
     ]
    }
   ],
   "source": [
    "train_text = extractedtrainData[\"extracted_information\"] \n",
    "train_tags = extractedtrainData['class_name']\n",
    "train_files_names = extractedtrainData[\"file_name\"]\n",
    "\n",
    "test_data_text = extractedtestData[\"extracted_information\"]\n",
    "\n",
    "print(train_text.shape)\n",
    "print(test_data_text.shape)"
   ]
  },
  {
   "cell_type": "code",
   "execution_count": 12,
   "metadata": {
    "colab": {
     "base_uri": "https://localhost:8080/",
     "height": 35
    },
    "colab_type": "code",
    "id": "YtcpMUTk2bqz",
    "outputId": "67cb1c9b-330a-48fc-f1c0-cf46a91bea98"
   },
   "outputs": [
    {
     "data": {
      "text/plain": [
       "(16, 69)"
      ]
     },
     "execution_count": 12,
     "metadata": {},
     "output_type": "execute_result"
    }
   ],
   "source": [
    "#perform vectorization on the text using sklearn\n",
    "from sklearn.feature_extraction.text import TfidfVectorizer\n",
    "\n",
    "vectorizer = TfidfVectorizer()\n",
    "vectors = vectorizer.fit_transform(train_text)\n",
    "vectors.shape"
   ]
  },
  {
   "cell_type": "code",
   "execution_count": 13,
   "metadata": {
    "colab": {
     "base_uri": "https://localhost:8080/",
     "height": 35
    },
    "colab_type": "code",
    "id": "wSInwr7P2btW",
    "outputId": "33daacbd-9918-4b7b-9abd-89e29d4e28fd"
   },
   "outputs": [
    {
     "data": {
      "text/plain": [
       "1.0"
      ]
     },
     "execution_count": 13,
     "metadata": {},
     "output_type": "execute_result"
    }
   ],
   "source": [
    "from sklearn.naive_bayes import MultinomialNB\n",
    "from sklearn import metrics\n",
    "\n",
    "\n",
    "clf = MultinomialNB(alpha=.01)\n",
    "clf.fit(vectors, label_index)\n",
    "\n",
    "# newsgroups_test = fetch_20newsgroups(subset='test')\n",
    "vectors_test = vectorizer.transform(test_data_text)\n",
    "\n",
    "pred = clf.predict(vectors_test)\n",
    "# np.mean(pred == newsgroups_test.target)\n",
    "metrics.f1_score(test_label_index, pred, average='macro')"
   ]
  },
  {
   "cell_type": "code",
   "execution_count": 14,
   "metadata": {
    "colab": {
     "base_uri": "https://localhost:8080/",
     "height": 89
    },
    "colab_type": "code",
    "id": "PVJzKNm22bv0",
    "outputId": "0eec56dc-4c80-4208-d7aa-381fe47071af"
   },
   "outputs": [
    {
     "data": {
      "text/plain": [
       "1.0"
      ]
     },
     "execution_count": 14,
     "metadata": {},
     "output_type": "execute_result"
    }
   ],
   "source": [
    "from sklearn.pipeline import Pipeline\n",
    "\n",
    "from sklearn.linear_model import SGDClassifier\n",
    "text_clf_svm = Pipeline([('tfidf', TfidfVectorizer()),\n",
    "                         ('clf-svm', SGDClassifier(loss='hinge', penalty='l2',alpha=1e-3, max_iter=10, random_state=42))])\n",
    "\n",
    "text_clf_svm = text_clf_svm.fit(train_text, label_index)\n",
    "predicted_svm = text_clf_svm.predict(test_data_text)\n",
    "\n",
    "np.mean(predicted_svm == test_label_index)"
   ]
  },
  {
   "cell_type": "markdown",
   "metadata": {},
   "source": [
    "As expected the accuracy is off the chart, due to the kind of images and documents been used. An academic setting like in Nigeria, these are the kind of documents seen such as the WAEC certificate, the Jamb result, school results, testimonials, they are all very similar documents with change in name date, student Number etc and most viable classifiers would be able to classify them correctly almost 100% of the time"
   ]
  },
  {
   "cell_type": "markdown",
   "metadata": {
    "colab_type": "text",
    "id": "0gsNm1KxTDn5"
   },
   "source": [
    "Save the sgd classifier model and test saved model"
   ]
  },
  {
   "cell_type": "code",
   "execution_count": 15,
   "metadata": {},
   "outputs": [],
   "source": [
    "pickle.dump(text_clf_svm, open('model.pkl','wb'))"
   ]
  },
  {
   "cell_type": "markdown",
   "metadata": {},
   "source": [
    "## 1.3 Test the classifier with never before seen data"
   ]
  },
  {
   "cell_type": "code",
   "execution_count": 17,
   "metadata": {},
   "outputs": [
    {
     "data": {
      "text/html": [
       "<div>\n",
       "<style scoped>\n",
       "    .dataframe tbody tr th:only-of-type {\n",
       "        vertical-align: middle;\n",
       "    }\n",
       "\n",
       "    .dataframe tbody tr th {\n",
       "        vertical-align: top;\n",
       "    }\n",
       "\n",
       "    .dataframe thead th {\n",
       "        text-align: right;\n",
       "    }\n",
       "</style>\n",
       "<table border=\"1\" class=\"dataframe\">\n",
       "  <thead>\n",
       "    <tr style=\"text-align: right;\">\n",
       "      <th></th>\n",
       "      <th>file_name</th>\n",
       "      <th>extracted_information</th>\n",
       "      <th>class_name</th>\n",
       "    </tr>\n",
       "  </thead>\n",
       "  <tbody>\n",
       "    <tr>\n",
       "      <th>0</th>\n",
       "      <td>ID (1).txt</td>\n",
       "      <td>CHAPEL SCIENCE\\n\\nHIGH SCHOOL\\n\\n \\n\\nALABI TOSIN</td>\n",
       "      <td>school_id</td>\n",
       "    </tr>\n",
       "    <tr>\n",
       "      <th>1</th>\n",
       "      <td>ID (10).txt</td>\n",
       "      <td>CHAPEL SCIENCE\\n\\nHIGH SCHOOL\\n\\n \\n\\nPETER JOHN</td>\n",
       "      <td>school_id</td>\n",
       "    </tr>\n",
       "    <tr>\n",
       "      <th>2</th>\n",
       "      <td>ID (3).txt</td>\n",
       "      <td>CHAPEL SCIENCE\\n\\nHIGH SCHOOL\\n\\n \\n\\nDAVID INO</td>\n",
       "      <td>school_id</td>\n",
       "    </tr>\n",
       "    <tr>\n",
       "      <th>3</th>\n",
       "      <td>ID (4).txt</td>\n",
       "      <td>CHAPEL SCIENCE\\n\\nHIGH SCHOOL\\n\\n \\n\\nEU JAMES</td>\n",
       "      <td>school_id</td>\n",
       "    </tr>\n",
       "    <tr>\n",
       "      <th>4</th>\n",
       "      <td>ID (5).txt</td>\n",
       "      <td>CHAPEL SCIENCE\\n\\nHIGH SCHOOL\\n\\n \\n\\npeace BA...</td>\n",
       "      <td>school_id</td>\n",
       "    </tr>\n",
       "    <tr>\n",
       "      <th>5</th>\n",
       "      <td>ID (7).txt</td>\n",
       "      <td>CHAPEL SCIENCE\\n\\nHIGH SCHOOL\\n\\n \\n\\nVICTOR O...</td>\n",
       "      <td>school_id</td>\n",
       "    </tr>\n",
       "    <tr>\n",
       "      <th>6</th>\n",
       "      <td>ID (8).txt</td>\n",
       "      <td>CHAPEL SCIENCE\\n\\nHIGH SCHOOL\\n\\n \\n\\neee CHID...</td>\n",
       "      <td>school_id</td>\n",
       "    </tr>\n",
       "    <tr>\n",
       "      <th>7</th>\n",
       "      <td>french_participation (5).txt</td>\n",
       "      <td>Chapel Science High School awards\\n\\nfor parti...</td>\n",
       "      <td>french_club_award</td>\n",
       "    </tr>\n",
       "    <tr>\n",
       "      <th>8</th>\n",
       "      <td>french_participation (6).txt</td>\n",
       "      <td>Chapel Science High School awards\\n\\nfor parti...</td>\n",
       "      <td>french_club_award</td>\n",
       "    </tr>\n",
       "    <tr>\n",
       "      <th>9</th>\n",
       "      <td>french_participation (7).txt</td>\n",
       "      <td>Chapel Science High School awards\\n\\nfor parti...</td>\n",
       "      <td>french_club_award</td>\n",
       "    </tr>\n",
       "    <tr>\n",
       "      <th>10</th>\n",
       "      <td>french_participation (8).txt</td>\n",
       "      <td>Chapel Science High School awards\\n\\nfor parti...</td>\n",
       "      <td>french_club_award</td>\n",
       "    </tr>\n",
       "    <tr>\n",
       "      <th>11</th>\n",
       "      <td>jets_participation (3).txt</td>\n",
       "      <td>THIS CERTIFIES THAT\\n\\nParticipated in the act...</td>\n",
       "      <td>jet_club_award</td>\n",
       "    </tr>\n",
       "    <tr>\n",
       "      <th>12</th>\n",
       "      <td>jets_participation (5).txt</td>\n",
       "      <td>THIS CERTIFIES THAT\\n\\nParticipated in the act...</td>\n",
       "      <td>jet_club_award</td>\n",
       "    </tr>\n",
       "    <tr>\n",
       "      <th>13</th>\n",
       "      <td>jets_participation (8).txt</td>\n",
       "      <td>THIS CERTIFIES THAT\\n\\nParticipated in the act...</td>\n",
       "      <td>jet_club_award</td>\n",
       "    </tr>\n",
       "    <tr>\n",
       "      <th>14</th>\n",
       "      <td>jets_participation.txt</td>\n",
       "      <td>THIS CERTIFIES THAT\\n\\nParticipated in the act...</td>\n",
       "      <td>jet_club_award</td>\n",
       "    </tr>\n",
       "    <tr>\n",
       "      <th>15</th>\n",
       "      <td>result (1).txt</td>\n",
       "      <td>SEMESTER RESULT\\n\\n \\n\\n \\n\\nStudent Name: Tol...</td>\n",
       "      <td>report_card</td>\n",
       "    </tr>\n",
       "    <tr>\n",
       "      <th>16</th>\n",
       "      <td>result (12).txt</td>\n",
       "      <td>SEMESTER RESULT\\n\\n \\n\\n \\n\\nStudent Name: Moh...</td>\n",
       "      <td>report_card</td>\n",
       "    </tr>\n",
       "    <tr>\n",
       "      <th>17</th>\n",
       "      <td>result (14).txt</td>\n",
       "      <td>SEMESTER RESULT\\n\\n \\n\\n \\n\\nStudent Name: Aze...</td>\n",
       "      <td>report_card</td>\n",
       "    </tr>\n",
       "    <tr>\n",
       "      <th>18</th>\n",
       "      <td>result (4).txt</td>\n",
       "      <td>SEMESTER RESULT\\n\\n \\n\\n \\n\\nStudent Name: Tom...</td>\n",
       "      <td>report_card</td>\n",
       "    </tr>\n",
       "    <tr>\n",
       "      <th>19</th>\n",
       "      <td>result (5).txt</td>\n",
       "      <td>SEMESTER RESULT\\n\\n \\n\\n \\n\\nStudent Name: Gra...</td>\n",
       "      <td>report_card</td>\n",
       "    </tr>\n",
       "    <tr>\n",
       "      <th>20</th>\n",
       "      <td>result (6).txt</td>\n",
       "      <td>SEMESTER RESULT\\n\\n \\n\\n \\n\\nStudent Name: Bak...</td>\n",
       "      <td>report_card</td>\n",
       "    </tr>\n",
       "    <tr>\n",
       "      <th>21</th>\n",
       "      <td>result (8).txt</td>\n",
       "      <td>SEMESTER RESULT\\n\\n \\n\\n \\n\\nStudent Name: Ama...</td>\n",
       "      <td>report_card</td>\n",
       "    </tr>\n",
       "  </tbody>\n",
       "</table>\n",
       "</div>"
      ],
      "text/plain": [
       "                       file_name  \\\n",
       "0                     ID (1).txt   \n",
       "1                    ID (10).txt   \n",
       "2                     ID (3).txt   \n",
       "3                     ID (4).txt   \n",
       "4                     ID (5).txt   \n",
       "5                     ID (7).txt   \n",
       "6                     ID (8).txt   \n",
       "7   french_participation (5).txt   \n",
       "8   french_participation (6).txt   \n",
       "9   french_participation (7).txt   \n",
       "10  french_participation (8).txt   \n",
       "11    jets_participation (3).txt   \n",
       "12    jets_participation (5).txt   \n",
       "13    jets_participation (8).txt   \n",
       "14        jets_participation.txt   \n",
       "15                result (1).txt   \n",
       "16               result (12).txt   \n",
       "17               result (14).txt   \n",
       "18                result (4).txt   \n",
       "19                result (5).txt   \n",
       "20                result (6).txt   \n",
       "21                result (8).txt   \n",
       "\n",
       "                                extracted_information         class_name  \n",
       "0   CHAPEL SCIENCE\\n\\nHIGH SCHOOL\\n\\n \\n\\nALABI TOSIN          school_id  \n",
       "1    CHAPEL SCIENCE\\n\\nHIGH SCHOOL\\n\\n \\n\\nPETER JOHN          school_id  \n",
       "2     CHAPEL SCIENCE\\n\\nHIGH SCHOOL\\n\\n \\n\\nDAVID INO          school_id  \n",
       "3      CHAPEL SCIENCE\\n\\nHIGH SCHOOL\\n\\n \\n\\nEU JAMES          school_id  \n",
       "4   CHAPEL SCIENCE\\n\\nHIGH SCHOOL\\n\\n \\n\\npeace BA...          school_id  \n",
       "5   CHAPEL SCIENCE\\n\\nHIGH SCHOOL\\n\\n \\n\\nVICTOR O...          school_id  \n",
       "6   CHAPEL SCIENCE\\n\\nHIGH SCHOOL\\n\\n \\n\\neee CHID...          school_id  \n",
       "7   Chapel Science High School awards\\n\\nfor parti...  french_club_award  \n",
       "8   Chapel Science High School awards\\n\\nfor parti...  french_club_award  \n",
       "9   Chapel Science High School awards\\n\\nfor parti...  french_club_award  \n",
       "10  Chapel Science High School awards\\n\\nfor parti...  french_club_award  \n",
       "11  THIS CERTIFIES THAT\\n\\nParticipated in the act...     jet_club_award  \n",
       "12  THIS CERTIFIES THAT\\n\\nParticipated in the act...     jet_club_award  \n",
       "13  THIS CERTIFIES THAT\\n\\nParticipated in the act...     jet_club_award  \n",
       "14  THIS CERTIFIES THAT\\n\\nParticipated in the act...     jet_club_award  \n",
       "15  SEMESTER RESULT\\n\\n \\n\\n \\n\\nStudent Name: Tol...        report_card  \n",
       "16  SEMESTER RESULT\\n\\n \\n\\n \\n\\nStudent Name: Moh...        report_card  \n",
       "17  SEMESTER RESULT\\n\\n \\n\\n \\n\\nStudent Name: Aze...        report_card  \n",
       "18  SEMESTER RESULT\\n\\n \\n\\n \\n\\nStudent Name: Tom...        report_card  \n",
       "19  SEMESTER RESULT\\n\\n \\n\\n \\n\\nStudent Name: Gra...        report_card  \n",
       "20  SEMESTER RESULT\\n\\n \\n\\n \\n\\nStudent Name: Bak...        report_card  \n",
       "21  SEMESTER RESULT\\n\\n \\n\\n \\n\\nStudent Name: Ama...        report_card  "
      ]
     },
     "execution_count": 17,
     "metadata": {},
     "output_type": "execute_result"
    }
   ],
   "source": [
    "extractedValData = pd.read_csv(\"val_data.csv\")\n",
    "extractedValData"
   ]
  },
  {
   "cell_type": "code",
   "execution_count": 18,
   "metadata": {},
   "outputs": [
    {
     "data": {
      "text/plain": [
       "'CHAPEL SCIENCE\\n\\nHIGH SCHOOL\\n\\n \\n\\nALABI TOSIN'"
      ]
     },
     "execution_count": 18,
     "metadata": {},
     "output_type": "execute_result"
    }
   ],
   "source": [
    "validation_sentence = extractedValData.loc[ 0 , 'extracted_information']\n",
    "validation_sentence"
   ]
  },
  {
   "cell_type": "code",
   "execution_count": 19,
   "metadata": {
    "colab": {
     "base_uri": "https://localhost:8080/",
     "height": 35
    },
    "colab_type": "code",
    "id": "5m2pWhfPTDD_",
    "outputId": "892151e2-c432-4542-e958-37a11e6af3e9"
   },
   "outputs": [
    {
     "data": {
      "text/plain": [
       "['school_id']"
      ]
     },
     "execution_count": 19,
     "metadata": {},
     "output_type": "execute_result"
    }
   ],
   "source": [
    "model = pickle.load(open('model.pkl','rb'))\n",
    "classInteger = model.predict([validation_sentence])\n",
    "classInteger\n",
    "list(le.inverse_transform(classInteger))"
   ]
  },
  {
   "cell_type": "markdown",
   "metadata": {
    "colab_type": "text",
    "id": "OWBsxyJWFRaw"
   },
   "source": [
    "## 1.5 Extracting keywords from a file\n"
   ]
  },
  {
   "cell_type": "code",
   "execution_count": 19,
   "metadata": {},
   "outputs": [
    {
     "data": {
      "text/plain": [
       "'SUMMER CERTIFICATE\\n\\nThe Kwara University awards\\n\\nJohn Peter\\n\\nfor completing our short course, Basic Home\\nTraining for Puppies.\\n\\nAVAZI OMEIZA ABDULGANIYU AMBALI\\nHOD Vice chancellor'"
      ]
     },
     "execution_count": 19,
     "metadata": {},
     "output_type": "execute_result"
    }
   ],
   "source": [
    "validation_sentence"
   ]
  },
  {
   "cell_type": "code",
   "execution_count": 1,
   "metadata": {
    "colab": {},
    "colab_type": "code",
    "id": "MnKxv78CLLNZ"
   },
   "outputs": [],
   "source": [
    "import spacy\n",
    "from spacy import displacy\n",
    "from collections import Counter\n",
    "import en_core_web_sm\n",
    "nlp = en_core_web_sm.load()\n",
    "from pprint import pprint"
   ]
  },
  {
   "cell_type": "code",
   "execution_count": 20,
   "metadata": {
    "colab": {
     "base_uri": "https://localhost:8080/",
     "height": 277
    },
    "colab_type": "code",
    "id": "x2S0deAMMP26",
    "outputId": "61351d63-a7d8-430f-ed99-16e696cd25ee"
   },
   "outputs": [
    {
     "name": "stdout",
     "output_type": "stream",
     "text": [
      "['SUMMER', 'Kwara University', 'John Peter', 'Puppies', 'HOD']\n"
     ]
    }
   ],
   "source": [
    "doc = nlp(validation_sentence)\n",
    "##pprint([(X.text, X.label_) for X in doc.ents])\n",
    "pprint([(X.text) for X in doc.ents])"
   ]
  },
  {
   "cell_type": "code",
   "execution_count": null,
   "metadata": {
    "colab": {},
    "colab_type": "code",
    "id": "etEDL91fPbLQ"
   },
   "outputs": [],
   "source": []
  }
 ],
 "metadata": {
  "accelerator": "GPU",
  "colab": {
   "name": "deep learning classification.ipynb",
   "provenance": [],
   "toc_visible": true,
   "version": "0.3.2"
  },
  "kernelspec": {
   "display_name": "Python 3",
   "language": "python",
   "name": "python3"
  },
  "language_info": {
   "codemirror_mode": {
    "name": "ipython",
    "version": 3
   },
   "file_extension": ".py",
   "mimetype": "text/x-python",
   "name": "python",
   "nbconvert_exporter": "python",
   "pygments_lexer": "ipython3",
   "version": "3.7.3"
  }
 },
 "nbformat": 4,
 "nbformat_minor": 4
}
