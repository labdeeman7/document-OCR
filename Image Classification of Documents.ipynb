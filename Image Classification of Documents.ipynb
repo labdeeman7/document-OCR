{
  "nbformat": 4,
  "nbformat_minor": 0,
  "metadata": {
    "colab": {
      "name": "Image Classification of Documents.ipynb",
      "version": "0.3.2",
      "provenance": [],
      "toc_visible": true
    },
    "kernelspec": {
      "name": "python3",
      "display_name": "Python 3"
    },
    "accelerator": "GPU"
  },
  "cells": [
    {
      "metadata": {
        "id": "MvnP1aRt0u35",
        "colab_type": "text"
      },
      "cell_type": "markdown",
      "source": [
        "# Image Classification of Documents"
      ]
    },
    {
      "metadata": {
        "id": "u4iYh_b-0u39",
        "colab_type": "text"
      },
      "cell_type": "markdown",
      "source": [
        "## 1. Setup\n",
        "\n"
      ]
    },
    {
      "metadata": {
        "id": "_2ZPYn_C0u4A",
        "colab_type": "text"
      },
      "cell_type": "markdown",
      "source": [
        "### 1.1 Getting dataset into colab\n",
        "After running split_data.ipynb (need to change it to a .py file), compress the data folder to a .zip file which would reduce the size by more than 10 and call it data.zip, then upload the compressed file to google drive. After importing the file, use !unzip to uncompress\n"
      ]
    },
    {
      "metadata": {
        "id": "Zbpnpja_0u4C",
        "colab_type": "text"
      },
      "cell_type": "markdown",
      "source": [
        "Use one of the colab code snippet to get the list of all .zip files and use another to import the file. \n"
      ]
    },
    {
      "metadata": {
        "id": "a8YRV_afIfOv",
        "colab_type": "code",
        "outputId": "96f07830-6ccd-4b10-d8a5-a4cc11514056",
        "colab": {
          "base_uri": "https://localhost:8080/",
          "height": 121
        }
      },
      "cell_type": "code",
      "source": [
        "# Install the PyDrive wrapper & import libraries.\n",
        "# This only needs to be done once per notebook.\n",
        "!pip install -U -q PyDrive\n",
        "from pydrive.auth import GoogleAuth\n",
        "from pydrive.drive import GoogleDrive\n",
        "from google.colab import auth\n",
        "from oauth2client.client import GoogleCredentials\n",
        "\n",
        "# Authenticate and create the PyDrive client.\n",
        "# This only needs to be done once per notebook.\n",
        "auth.authenticate_user()\n",
        "gauth = GoogleAuth()\n",
        "gauth.credentials = GoogleCredentials.get_application_default()\n",
        "drive = GoogleDrive(gauth)\n",
        "\n",
        "# List .txt files in the root.\n",
        "#\n",
        "# Search query reference:\n",
        "# https://developers.google.com/drive/v2/web/search-parameters\n",
        "listed = drive.ListFile({'q': \"title contains '.zip'\"}).GetList()\n",
        "for file in listed:\n",
        "  print('title {}, id {}'.format(file['title'], file['id']))"
      ],
      "execution_count": 1,
      "outputs": [
        {
          "output_type": "stream",
          "text": [
            "\u001b[?25l\r\u001b[K    1% |▎                               | 10kB 21.1MB/s eta 0:00:01\r\u001b[K    2% |▋                               | 20kB 1.7MB/s eta 0:00:01\r\u001b[K    3% |█                               | 30kB 2.6MB/s eta 0:00:01\r\u001b[K    4% |█▎                              | 40kB 3.3MB/s eta 0:00:01\r\u001b[K    5% |█▋                              | 51kB 2.1MB/s eta 0:00:01\r\u001b[K    6% |██                              | 61kB 2.5MB/s eta 0:00:01\r\u001b[K    7% |██▎                             | 71kB 2.9MB/s eta 0:00:01\r\u001b[K    8% |██▋                             | 81kB 3.3MB/s eta 0:00:01\r\u001b[K    9% |███                             | 92kB 2.5MB/s eta 0:00:01\r\u001b[K    10% |███▎                            | 102kB 2.7MB/s eta 0:00:01\r\u001b[K    11% |███▋                            | 112kB 2.8MB/s eta 0:00:01\r\u001b[K    12% |████                            | 122kB 3.9MB/s eta 0:00:01\r\u001b[K    13% |████▎                           | 133kB 3.9MB/s eta 0:00:01\r\u001b[K    14% |████▋                           | 143kB 3.9MB/s eta 0:00:01\r\u001b[K    15% |█████                           | 153kB 7.3MB/s eta 0:00:01\r\u001b[K    16% |█████▎                          | 163kB 7.4MB/s eta 0:00:01\r\u001b[K    17% |█████▋                          | 174kB 7.3MB/s eta 0:00:01\r\u001b[K    18% |██████                          | 184kB 7.3MB/s eta 0:00:01\r\u001b[K    19% |██████▎                         | 194kB 46.3MB/s eta 0:00:01\r\u001b[K    20% |██████▋                         | 204kB 8.1MB/s eta 0:00:01\r\u001b[K    21% |███████                         | 215kB 8.2MB/s eta 0:00:01\r\u001b[K    22% |███████▎                        | 225kB 8.1MB/s eta 0:00:01\r\u001b[K    23% |███████▋                        | 235kB 8.1MB/s eta 0:00:01\r\u001b[K    24% |████████                        | 245kB 8.1MB/s eta 0:00:01\r\u001b[K    25% |████████▎                       | 256kB 8.1MB/s eta 0:00:01\r\u001b[K    26% |████████▋                       | 266kB 7.9MB/s eta 0:00:01\r\u001b[K    27% |█████████                       | 276kB 8.1MB/s eta 0:00:01\r\u001b[K    29% |█████████▎                      | 286kB 8.0MB/s eta 0:00:01\r\u001b[K    30% |█████████▋                      | 296kB 8.1MB/s eta 0:00:01\r\u001b[K    31% |██████████                      | 307kB 45.4MB/s eta 0:00:01\r\u001b[K    32% |██████████▎                     | 317kB 44.9MB/s eta 0:00:01\r\u001b[K    33% |██████████▋                     | 327kB 46.7MB/s eta 0:00:01\r\u001b[K    34% |███████████                     | 337kB 46.5MB/s eta 0:00:01\r\u001b[K    35% |███████████▎                    | 348kB 42.4MB/s eta 0:00:01\r\u001b[K    36% |███████████▋                    | 358kB 42.2MB/s eta 0:00:01\r\u001b[K    37% |████████████                    | 368kB 9.3MB/s eta 0:00:01\r\u001b[K    38% |████████████▎                   | 378kB 9.3MB/s eta 0:00:01\r\u001b[K    39% |████████████▋                   | 389kB 9.3MB/s eta 0:00:01\r\u001b[K    40% |█████████████                   | 399kB 9.2MB/s eta 0:00:01\r\u001b[K    41% |█████████████▎                  | 409kB 9.2MB/s eta 0:00:01\r\u001b[K    42% |█████████████▋                  | 419kB 9.2MB/s eta 0:00:01\r\u001b[K    43% |██████████████                  | 430kB 9.2MB/s eta 0:00:01\r\u001b[K    44% |██████████████▎                 | 440kB 9.2MB/s eta 0:00:01\r\u001b[K    45% |██████████████▋                 | 450kB 9.3MB/s eta 0:00:01\r\u001b[K    46% |███████████████                 | 460kB 9.3MB/s eta 0:00:01\r\u001b[K    47% |███████████████▎                | 471kB 50.1MB/s eta 0:00:01\r\u001b[K    48% |███████████████▋                | 481kB 50.1MB/s eta 0:00:01\r\u001b[K    49% |████████████████                | 491kB 50.5MB/s eta 0:00:01\r\u001b[K    50% |████████████████▎               | 501kB 52.4MB/s eta 0:00:01\r\u001b[K    51% |████████████████▋               | 512kB 49.5MB/s eta 0:00:01\r\u001b[K    52% |█████████████████               | 522kB 50.7MB/s eta 0:00:01\r\u001b[K    53% |█████████████████▎              | 532kB 50.0MB/s eta 0:00:01\r\u001b[K    54% |█████████████████▋              | 542kB 49.8MB/s eta 0:00:01\r\u001b[K    55% |██████████████████              | 552kB 52.8MB/s eta 0:00:01\r\u001b[K    57% |██████████████████▎             | 563kB 50.4MB/s eta 0:00:01\r\u001b[K    58% |██████████████████▋             | 573kB 51.0MB/s eta 0:00:01\r\u001b[K    59% |███████████████████             | 583kB 51.1MB/s eta 0:00:01\r\u001b[K    60% |███████████████████▎            | 593kB 50.9MB/s eta 0:00:01\r\u001b[K    61% |███████████████████▋            | 604kB 9.9MB/s eta 0:00:01\r\u001b[K    62% |████████████████████            | 614kB 10.0MB/s eta 0:00:01\r\u001b[K    63% |████████████████████▎           | 624kB 9.9MB/s eta 0:00:01\r\u001b[K    64% |████████████████████▋           | 634kB 9.9MB/s eta 0:00:01\r\u001b[K    65% |█████████████████████           | 645kB 9.9MB/s eta 0:00:01\r\u001b[K    66% |█████████████████████▎          | 655kB 9.8MB/s eta 0:00:01\r\u001b[K    67% |█████████████████████▋          | 665kB 9.5MB/s eta 0:00:01\r\u001b[K    68% |██████████████████████          | 675kB 9.5MB/s eta 0:00:01\r\u001b[K    69% |██████████████████████▎         | 686kB 9.5MB/s eta 0:00:01\r\u001b[K    70% |██████████████████████▋         | 696kB 9.5MB/s eta 0:00:01\r\u001b[K    71% |███████████████████████         | 706kB 41.4MB/s eta 0:00:01\r\u001b[K    72% |███████████████████████▎        | 716kB 42.0MB/s eta 0:00:01\r\u001b[K    73% |███████████████████████▋        | 727kB 42.6MB/s eta 0:00:01\r\u001b[K    74% |████████████████████████        | 737kB 43.4MB/s eta 0:00:01\r\u001b[K    75% |████████████████████████▎       | 747kB 44.5MB/s eta 0:00:01\r\u001b[K    76% |████████████████████████▋       | 757kB 45.0MB/s eta 0:00:01\r\u001b[K    77% |████████████████████████▉       | 768kB 56.6MB/s eta 0:00:01\r\u001b[K    78% |█████████████████████████▏      | 778kB 55.4MB/s eta 0:00:01\r\u001b[K    79% |█████████████████████████▌      | 788kB 54.8MB/s eta 0:00:01\r\u001b[K    80% |█████████████████████████▉      | 798kB 53.5MB/s eta 0:00:01\r\u001b[K    81% |██████████████████████████▏     | 808kB 51.8MB/s eta 0:00:01\r\u001b[K    82% |██████████████████████████▌     | 819kB 51.6MB/s eta 0:00:01\r\u001b[K    83% |██████████████████████████▉     | 829kB 51.5MB/s eta 0:00:01\r\u001b[K    85% |███████████████████████████▏    | 839kB 51.4MB/s eta 0:00:01\r\u001b[K    86% |███████████████████████████▌    | 849kB 51.4MB/s eta 0:00:01\r\u001b[K    87% |███████████████████████████▉    | 860kB 47.1MB/s eta 0:00:01\r\u001b[K    88% |████████████████████████████▏   | 870kB 47.2MB/s eta 0:00:01\r\u001b[K    89% |████████████████████████████▌   | 880kB 48.0MB/s eta 0:00:01\r\u001b[K    90% |████████████████████████████▉   | 890kB 48.5MB/s eta 0:00:01\r\u001b[K    91% |█████████████████████████████▏  | 901kB 49.9MB/s eta 0:00:01\r\u001b[K    92% |█████████████████████████████▌  | 911kB 50.9MB/s eta 0:00:01\r\u001b[K    93% |█████████████████████████████▉  | 921kB 51.2MB/s eta 0:00:01\r\u001b[K    94% |██████████████████████████████▏ | 931kB 51.5MB/s eta 0:00:01\r\u001b[K    95% |██████████████████████████████▌ | 942kB 51.4MB/s eta 0:00:01\r\u001b[K    96% |██████████████████████████████▉ | 952kB 51.6MB/s eta 0:00:01\r\u001b[K    97% |███████████████████████████████▏| 962kB 56.7MB/s eta 0:00:01\r\u001b[K    98% |███████████████████████████████▌| 972kB 56.5MB/s eta 0:00:01\r\u001b[K    99% |███████████████████████████████▉| 983kB 56.0MB/s eta 0:00:01\r\u001b[K    100% |████████████████████████████████| 993kB 20.9MB/s \n",
            "\u001b[?25h  Building wheel for PyDrive (setup.py) ... \u001b[?25ldone\n",
            "\u001b[?25htitle data.zip, id 1pMEgJWXyKopKo5OQTSpG1pTK8XFj7Cg9\n",
            "title firebase-arduino-master.zip, id 0B4tww7CJlZPyUTd1enFxNklKOE0\n",
            "title Re Zero Kara Hajimeru v09.zip, id 0B-1T9fhvtxApbjRIM2NZcGdjVFE\n",
            "title Re Zero Kara Hajimeru v08.zip, id 0B-1T9fhvtxApRWZhaXpkSEZ4S1E\n"
          ],
          "name": "stdout"
        }
      ]
    },
    {
      "metadata": {
        "id": "Oc48JZRPJRiZ",
        "colab_type": "code",
        "colab": {}
      },
      "cell_type": "code",
      "source": [
        "# Install the PyDrive wrapper & import libraries.\n",
        "# This only needs to be done once per notebook.\n",
        "!pip install -U -q PyDrive\n",
        "from pydrive.auth import GoogleAuth\n",
        "from pydrive.drive import GoogleDrive\n",
        "from google.colab import auth\n",
        "from oauth2client.client import GoogleCredentials\n",
        "\n",
        "# Authenticate and create the PyDrive client.\n",
        "# This only needs to be done once per notebook.\n",
        "auth.authenticate_user()\n",
        "gauth = GoogleAuth()\n",
        "gauth.credentials = GoogleCredentials.get_application_default()\n",
        "drive = GoogleDrive(gauth)\n",
        "\n",
        "# Download a file based on its file ID.\n",
        "#\n",
        "# A file ID looks like: laggVyWshwcyP6kEI-y_W3P8D26sz\n",
        "file_id = '1pMEgJWXyKopKo5OQTSpG1pTK8XFj7Cg9'\n",
        "downloaded = drive.CreateFile({'id': file_id})\n",
        "downloaded.GetContentFile('data.zip')\n"
      ],
      "execution_count": 0,
      "outputs": []
    },
    {
      "metadata": {
        "id": "bplMQzyaLw6b",
        "colab_type": "code",
        "colab": {}
      },
      "cell_type": "code",
      "source": [
        "!unzip data.zip"
      ],
      "execution_count": 0,
      "outputs": []
    },
    {
      "metadata": {
        "id": "PZipKvIN0u4P",
        "colab_type": "text"
      },
      "cell_type": "markdown",
      "source": [
        "### Now restart the kernel by choosing Kernel > Restart."
      ]
    },
    {
      "metadata": {
        "id": "L4lXXTEuU-c1",
        "colab_type": "code",
        "colab": {}
      },
      "cell_type": "code",
      "source": [
        "# if you wanna test the code\n",
        "# import os\n",
        "# import matplotlib.pyplot as plt\n",
        "# import matplotlib.image as mpimg\n",
        "# import numpy as np\n",
        "\n",
        "# os.chdir(\"data/test/Advertisement\")\n",
        "\n",
        "# img=mpimg.imread('2067311301_2067311302.tif')\n",
        "# imgplot = plt.imshow(img)\n",
        "# os.chdir(\"../../../\")"
      ],
      "execution_count": 0,
      "outputs": []
    },
    {
      "metadata": {
        "id": "j9hSgsyfWmw7",
        "colab_type": "code",
        "outputId": "654300ae-ff17-4fc3-bb39-5611b9ae71a6",
        "colab": {
          "base_uri": "https://localhost:8080/",
          "height": 35
        }
      },
      "cell_type": "code",
      "source": [
        "!ls"
      ],
      "execution_count": 6,
      "outputs": [
        {
          "output_type": "stream",
          "text": [
            "adc.json  data\tdata.zip  sample_data\n"
          ],
          "name": "stdout"
        }
      ]
    },
    {
      "metadata": {
        "id": "FRltxtGu0u4Q",
        "colab_type": "text"
      },
      "cell_type": "markdown",
      "source": [
        "### 1.2 Import packages and libraries\n",
        "Import the packages and libraries that you'll use:"
      ]
    },
    {
      "metadata": {
        "id": "5T1qU0wM0u4R",
        "colab_type": "code",
        "colab": {}
      },
      "cell_type": "code",
      "source": [
        "import os, random\n",
        "import numpy as np\n",
        "import pandas as pd\n",
        "import PIL\n",
        "import keras\n",
        "import itertools\n",
        "from PIL import Image\n",
        "\n",
        "import matplotlib.pyplot as plt\n",
        "from matplotlib import ticker\n",
        "import seaborn as sns\n",
        "%matplotlib inline \n",
        "\n",
        "from keras import backend as K\n",
        "from keras.models import Sequential\n",
        "from keras import applications\n",
        "from keras import optimizers\n",
        "from keras.models import Model\n",
        "from keras.preprocessing.image import ImageDataGenerator, array_to_img, img_to_array, load_img\n",
        "from keras.layers import Input, Dropout, Flatten, Conv2D, MaxPooling2D, Dense, Activation\n",
        "from keras.callbacks import ModelCheckpoint, Callback, EarlyStopping\n",
        "\n"
      ],
      "execution_count": 0,
      "outputs": []
    },
    {
      "metadata": {
        "id": "tkLqGR9A0u4f",
        "colab_type": "text"
      },
      "cell_type": "markdown",
      "source": [
        "### 2.2 Global Variables \n",
        "Enter the batch size for training, testing and validation dataset"
      ]
    },
    {
      "metadata": {
        "id": "nJGOYrtw0u4h",
        "colab_type": "code",
        "colab": {}
      },
      "cell_type": "code",
      "source": [
        "batch_size_train = 20\n",
        "batch_size_val = 10\n",
        "batch_size_test = 10\n",
        "num_classes= 5\n",
        "intereseted_folder='data'\n",
        "STANDARD_SIZE=(224,224)"
      ],
      "execution_count": 0,
      "outputs": []
    },
    {
      "metadata": {
        "id": "7GN2Gqx10u4z",
        "colab_type": "text"
      },
      "cell_type": "markdown",
      "source": [
        "# 4. Classification\n",
        "\n",
        "## 4.1 Create the Datset"
      ]
    },
    {
      "metadata": {
        "id": "ZYpwdZAa0u41",
        "colab_type": "code",
        "colab": {}
      },
      "cell_type": "code",
      "source": [
        "'''Creating data generators\n",
        "'''\n",
        "datagen=keras.preprocessing.image.ImageDataGenerator(data_format=K.image_data_format())\n",
        "\n",
        "train_datagen = ImageDataGenerator(\n",
        "horizontal_flip = True,\n",
        "fill_mode = \"nearest\",\n",
        "zoom_range = 0.3,\n",
        "width_shift_range = 0.3,\n",
        "height_shift_range=0.3,\n",
        "rotation_range=30)\n",
        "\n",
        "test_datagen = ImageDataGenerator(\n",
        "horizontal_flip = True,\n",
        "fill_mode = \"nearest\",\n",
        "zoom_range = 0.3,\n",
        "width_shift_range = 0.3,\n",
        "height_shift_range=0.3,\n",
        "rotation_range=30)"
      ],
      "execution_count": 0,
      "outputs": []
    },
    {
      "metadata": {
        "id": "V05GYycE0u46",
        "colab_type": "code",
        "outputId": "75c57580-f821-431d-a97e-dc04325b72df",
        "colab": {
          "base_uri": "https://localhost:8080/",
          "height": 35
        }
      },
      "cell_type": "code",
      "source": [
        "'''Input the Training Data\n",
        "'''\n",
        "train_path = \"data/train/\"\n",
        "train_batches = ImageDataGenerator().flow_from_directory(train_path, target_size=(224,224), batch_size=batch_size_train)"
      ],
      "execution_count": 40,
      "outputs": [
        {
          "output_type": "stream",
          "text": [
            "Found 2167 images belonging to 8 classes.\n"
          ],
          "name": "stdout"
        }
      ]
    },
    {
      "metadata": {
        "id": "eh3Dcwqj0u5C",
        "colab_type": "code",
        "outputId": "14c74878-f97b-4077-c64b-d9193626611b",
        "colab": {
          "base_uri": "https://localhost:8080/",
          "height": 35
        }
      },
      "cell_type": "code",
      "source": [
        "'''Input the Validation Data\n",
        "'''\n",
        "\n",
        "val_path = \"data/val/\"\n",
        "val_batches = ImageDataGenerator().flow_from_directory(val_path, target_size=(224,224), batch_size=batch_size_val)\n"
      ],
      "execution_count": 41,
      "outputs": [
        {
          "output_type": "stream",
          "text": [
            "Found 441 images belonging to 8 classes.\n"
          ],
          "name": "stdout"
        }
      ]
    },
    {
      "metadata": {
        "id": "BBNmRS8Q0u5M",
        "colab_type": "code",
        "outputId": "8a2ceea3-e65f-402a-c17a-39f691b31caa",
        "colab": {
          "base_uri": "https://localhost:8080/",
          "height": 35
        }
      },
      "cell_type": "code",
      "source": [
        "'''Input the Test Data\n",
        "'''\n",
        "test_path = 'data/test/'\n",
        "test_batches = ImageDataGenerator().flow_from_directory(test_path, target_size=(224,224), batch_size=batch_size_test)\n"
      ],
      "execution_count": 42,
      "outputs": [
        {
          "output_type": "stream",
          "text": [
            "Found 465 images belonging to 8 classes.\n"
          ],
          "name": "stdout"
        }
      ]
    },
    {
      "metadata": {
        "id": "xi29TO3f0u5T",
        "colab_type": "code",
        "outputId": "83e06d4c-8e1e-4ba0-f855-d9a255d24545",
        "colab": {
          "base_uri": "https://localhost:8080/",
          "height": 451
        }
      },
      "cell_type": "code",
      "source": [
        "test_imgs, test_labels = next(test_batches)\n",
        "test_labels"
      ],
      "execution_count": 15,
      "outputs": [
        {
          "output_type": "execute_result",
          "data": {
            "text/plain": [
              "array([[0., 0., 0., 0., 1., 0., 0., 0.],\n",
              "       [0., 0., 1., 0., 0., 0., 0., 0.],\n",
              "       [0., 0., 0., 0., 0., 0., 0., 1.],\n",
              "       [0., 0., 0., 0., 0., 0., 1., 0.],\n",
              "       [0., 1., 0., 0., 0., 0., 0., 0.],\n",
              "       [0., 0., 0., 0., 0., 0., 1., 0.],\n",
              "       [0., 0., 0., 0., 1., 0., 0., 0.],\n",
              "       [0., 0., 0., 0., 1., 0., 0., 0.],\n",
              "       [1., 0., 0., 0., 0., 0., 0., 0.],\n",
              "       [0., 1., 0., 0., 0., 0., 0., 0.],\n",
              "       [0., 0., 0., 0., 1., 0., 0., 0.],\n",
              "       [0., 1., 0., 0., 0., 0., 0., 0.],\n",
              "       [0., 1., 0., 0., 0., 0., 0., 0.],\n",
              "       [0., 1., 0., 0., 0., 0., 0., 0.],\n",
              "       [0., 0., 0., 1., 0., 0., 0., 0.],\n",
              "       [0., 0., 0., 1., 0., 0., 0., 0.],\n",
              "       [1., 0., 0., 0., 0., 0., 0., 0.],\n",
              "       [0., 0., 0., 1., 0., 0., 0., 0.],\n",
              "       [0., 1., 0., 0., 0., 0., 0., 0.],\n",
              "       [0., 0., 0., 0., 1., 0., 0., 0.],\n",
              "       [0., 0., 0., 1., 0., 0., 0., 0.],\n",
              "       [0., 0., 0., 0., 1., 0., 0., 0.],\n",
              "       [0., 0., 0., 0., 1., 0., 0., 0.],\n",
              "       [0., 0., 0., 0., 1., 0., 0., 0.],\n",
              "       [0., 0., 0., 0., 0., 1., 0., 0.]], dtype=float32)"
            ]
          },
          "metadata": {
            "tags": []
          },
          "execution_count": 15
        }
      ]
    },
    {
      "metadata": {
        "id": "cM7OUJZw0u5b",
        "colab_type": "code",
        "outputId": "cd3b0925-128a-44c3-b48a-e6715db5d25f",
        "colab": {
          "base_uri": "https://localhost:8080/",
          "height": 35
        }
      },
      "cell_type": "code",
      "source": [
        "y_test= [ np.where(r==1)[0][0] for r in test_labels ]\n",
        "y_test"
      ],
      "execution_count": 0,
      "outputs": [
        {
          "output_type": "execute_result",
          "data": {
            "text/plain": [
              "[1, 7, 3, 7, 0, 3, 6, 7, 1, 1, 5, 1, 4, 4, 1, 2, 1, 3, 7, 1, 4, 1, 4, 3, 3]"
            ]
          },
          "metadata": {
            "tags": []
          },
          "execution_count": 23
        }
      ]
    },
    {
      "metadata": {
        "id": "yz3MMgxX0u5q",
        "colab_type": "text"
      },
      "cell_type": "markdown",
      "source": [
        "## 4.2 Build the Model"
      ]
    },
    {
      "metadata": {
        "id": "5LLLojmC0u5s",
        "colab_type": "code",
        "colab": {}
      },
      "cell_type": "code",
      "source": [
        "model = applications.VGG19(weights = \"imagenet\", include_top=False, input_shape = (224, 224, 3))"
      ],
      "execution_count": 0,
      "outputs": []
    },
    {
      "metadata": {
        "id": "Gwj6lzrsXu6Q",
        "colab_type": "code",
        "colab": {
          "base_uri": "https://localhost:8080/",
          "height": 901
        },
        "outputId": "0d2ded3b-788d-428d-f897-2ee3ec165d3b"
      },
      "cell_type": "code",
      "source": [
        "model.summary()"
      ],
      "execution_count": 59,
      "outputs": [
        {
          "output_type": "stream",
          "text": [
            "_________________________________________________________________\n",
            "Layer (type)                 Output Shape              Param #   \n",
            "=================================================================\n",
            "input_2 (InputLayer)         (None, 224, 224, 3)       0         \n",
            "_________________________________________________________________\n",
            "block1_conv1 (Conv2D)        (None, 224, 224, 64)      1792      \n",
            "_________________________________________________________________\n",
            "block1_conv2 (Conv2D)        (None, 224, 224, 64)      36928     \n",
            "_________________________________________________________________\n",
            "block1_pool (MaxPooling2D)   (None, 112, 112, 64)      0         \n",
            "_________________________________________________________________\n",
            "block2_conv1 (Conv2D)        (None, 112, 112, 128)     73856     \n",
            "_________________________________________________________________\n",
            "block2_conv2 (Conv2D)        (None, 112, 112, 128)     147584    \n",
            "_________________________________________________________________\n",
            "block2_pool (MaxPooling2D)   (None, 56, 56, 128)       0         \n",
            "_________________________________________________________________\n",
            "block3_conv1 (Conv2D)        (None, 56, 56, 256)       295168    \n",
            "_________________________________________________________________\n",
            "block3_conv2 (Conv2D)        (None, 56, 56, 256)       590080    \n",
            "_________________________________________________________________\n",
            "block3_conv3 (Conv2D)        (None, 56, 56, 256)       590080    \n",
            "_________________________________________________________________\n",
            "block3_conv4 (Conv2D)        (None, 56, 56, 256)       590080    \n",
            "_________________________________________________________________\n",
            "block3_pool (MaxPooling2D)   (None, 28, 28, 256)       0         \n",
            "_________________________________________________________________\n",
            "block4_conv1 (Conv2D)        (None, 28, 28, 512)       1180160   \n",
            "_________________________________________________________________\n",
            "block4_conv2 (Conv2D)        (None, 28, 28, 512)       2359808   \n",
            "_________________________________________________________________\n",
            "block4_conv3 (Conv2D)        (None, 28, 28, 512)       2359808   \n",
            "_________________________________________________________________\n",
            "block4_conv4 (Conv2D)        (None, 28, 28, 512)       2359808   \n",
            "_________________________________________________________________\n",
            "block4_pool (MaxPooling2D)   (None, 14, 14, 512)       0         \n",
            "_________________________________________________________________\n",
            "block5_conv1 (Conv2D)        (None, 14, 14, 512)       2359808   \n",
            "_________________________________________________________________\n",
            "block5_conv2 (Conv2D)        (None, 14, 14, 512)       2359808   \n",
            "_________________________________________________________________\n",
            "block5_conv3 (Conv2D)        (None, 14, 14, 512)       2359808   \n",
            "_________________________________________________________________\n",
            "block5_conv4 (Conv2D)        (None, 14, 14, 512)       2359808   \n",
            "_________________________________________________________________\n",
            "block5_pool (MaxPooling2D)   (None, 7, 7, 512)         0         \n",
            "=================================================================\n",
            "Total params: 20,024,384\n",
            "Trainable params: 20,024,384\n",
            "Non-trainable params: 0\n",
            "_________________________________________________________________\n"
          ],
          "name": "stdout"
        }
      ]
    },
    {
      "metadata": {
        "id": "5m3a2MlFWfdA",
        "colab_type": "code",
        "colab": {}
      },
      "cell_type": "code",
      "source": [
        "# freezing layers\n",
        "for layer in model.layers:\n",
        "  layer.trainable = False"
      ],
      "execution_count": 0,
      "outputs": []
    },
    {
      "metadata": {
        "id": "Ho4byUkJXImw",
        "colab_type": "code",
        "colab": {}
      },
      "cell_type": "code",
      "source": [
        "x = model.output\n",
        "x = Flatten()(x)\n",
        "x = Dense(512, activation=\"relu\")(x)\n",
        "x = Dropout(0.2)(x)\n",
        "x = Dense(256, activation=\"relu\")(x)\n",
        "x = Dense(64, activation=\"relu\")(x)\n",
        "predictions = Dense(8, activation=\"softmax\")(x)"
      ],
      "execution_count": 0,
      "outputs": []
    },
    {
      "metadata": {
        "id": "kDK48t7Ab79O",
        "colab_type": "code",
        "colab": {
          "base_uri": "https://localhost:8080/",
          "height": 1109
        },
        "outputId": "ca935020-a493-4a09-eb6b-c56a07efcdc3"
      },
      "cell_type": "code",
      "source": [
        "final_model=Model(inputs=model.input,outputs=predictions)\n",
        "\n",
        "final_model.summary()"
      ],
      "execution_count": 62,
      "outputs": [
        {
          "output_type": "stream",
          "text": [
            "_________________________________________________________________\n",
            "Layer (type)                 Output Shape              Param #   \n",
            "=================================================================\n",
            "input_2 (InputLayer)         (None, 224, 224, 3)       0         \n",
            "_________________________________________________________________\n",
            "block1_conv1 (Conv2D)        (None, 224, 224, 64)      1792      \n",
            "_________________________________________________________________\n",
            "block1_conv2 (Conv2D)        (None, 224, 224, 64)      36928     \n",
            "_________________________________________________________________\n",
            "block1_pool (MaxPooling2D)   (None, 112, 112, 64)      0         \n",
            "_________________________________________________________________\n",
            "block2_conv1 (Conv2D)        (None, 112, 112, 128)     73856     \n",
            "_________________________________________________________________\n",
            "block2_conv2 (Conv2D)        (None, 112, 112, 128)     147584    \n",
            "_________________________________________________________________\n",
            "block2_pool (MaxPooling2D)   (None, 56, 56, 128)       0         \n",
            "_________________________________________________________________\n",
            "block3_conv1 (Conv2D)        (None, 56, 56, 256)       295168    \n",
            "_________________________________________________________________\n",
            "block3_conv2 (Conv2D)        (None, 56, 56, 256)       590080    \n",
            "_________________________________________________________________\n",
            "block3_conv3 (Conv2D)        (None, 56, 56, 256)       590080    \n",
            "_________________________________________________________________\n",
            "block3_conv4 (Conv2D)        (None, 56, 56, 256)       590080    \n",
            "_________________________________________________________________\n",
            "block3_pool (MaxPooling2D)   (None, 28, 28, 256)       0         \n",
            "_________________________________________________________________\n",
            "block4_conv1 (Conv2D)        (None, 28, 28, 512)       1180160   \n",
            "_________________________________________________________________\n",
            "block4_conv2 (Conv2D)        (None, 28, 28, 512)       2359808   \n",
            "_________________________________________________________________\n",
            "block4_conv3 (Conv2D)        (None, 28, 28, 512)       2359808   \n",
            "_________________________________________________________________\n",
            "block4_conv4 (Conv2D)        (None, 28, 28, 512)       2359808   \n",
            "_________________________________________________________________\n",
            "block4_pool (MaxPooling2D)   (None, 14, 14, 512)       0         \n",
            "_________________________________________________________________\n",
            "block5_conv1 (Conv2D)        (None, 14, 14, 512)       2359808   \n",
            "_________________________________________________________________\n",
            "block5_conv2 (Conv2D)        (None, 14, 14, 512)       2359808   \n",
            "_________________________________________________________________\n",
            "block5_conv3 (Conv2D)        (None, 14, 14, 512)       2359808   \n",
            "_________________________________________________________________\n",
            "block5_conv4 (Conv2D)        (None, 14, 14, 512)       2359808   \n",
            "_________________________________________________________________\n",
            "block5_pool (MaxPooling2D)   (None, 7, 7, 512)         0         \n",
            "_________________________________________________________________\n",
            "flatten_5 (Flatten)          (None, 25088)             0         \n",
            "_________________________________________________________________\n",
            "dense_23 (Dense)             (None, 512)               12845568  \n",
            "_________________________________________________________________\n",
            "dropout_7 (Dropout)          (None, 512)               0         \n",
            "_________________________________________________________________\n",
            "dense_24 (Dense)             (None, 256)               131328    \n",
            "_________________________________________________________________\n",
            "dense_25 (Dense)             (None, 64)                16448     \n",
            "_________________________________________________________________\n",
            "dense_26 (Dense)             (None, 8)                 520       \n",
            "=================================================================\n",
            "Total params: 33,018,248\n",
            "Trainable params: 12,993,864\n",
            "Non-trainable params: 20,024,384\n",
            "_________________________________________________________________\n"
          ],
          "name": "stdout"
        }
      ]
    },
    {
      "metadata": {
        "id": "I2J2RgDg0u6P",
        "colab_type": "code",
        "colab": {}
      },
      "cell_type": "code",
      "source": [
        "# compile the model \n",
        "final_model.compile(loss = \"categorical_crossentropy\", optimizer = optimizers.SGD(lr=0.0001, momentum=0.1), metrics=[\"accuracy\"])"
      ],
      "execution_count": 0,
      "outputs": []
    },
    {
      "metadata": {
        "id": "Mrm7W_DBiomR",
        "colab_type": "code",
        "colab": {}
      },
      "cell_type": "code",
      "source": [
        "# Save the model according to the conditions  \n",
        "checkpoint = ModelCheckpoint(\"vgg16_1.h5\", monitor='val_acc', verbose=1, save_best_only=True, save_weights_only=False, mode='auto', period=1)\n",
        "early = EarlyStopping(monitor='val_acc', min_delta=0, patience=10, verbose=1, mode='auto')"
      ],
      "execution_count": 0,
      "outputs": []
    },
    {
      "metadata": {
        "id": "9w8C3Uhw0u6S",
        "colab_type": "text"
      },
      "cell_type": "markdown",
      "source": [
        "## 4.3 Train the Model\n",
        "\n",
        "The model will take about 30-45 minutes to train. "
      ]
    },
    {
      "metadata": {
        "id": "vW2_M6FF0u6U",
        "colab_type": "code",
        "outputId": "0b448fbd-9421-418e-dd03-b0469b124baf",
        "colab": {
          "base_uri": "https://localhost:8080/",
          "height": 401
        }
      },
      "cell_type": "code",
      "source": [
        "\n",
        "#steps per epoch number of samples/batch size\n",
        "final_model.fit_generator(\n",
        "train_batches,\n",
        "steps_per_epoch=109,\n",
        "epochs = 5,\n",
        "validation_data = val_batches,\n",
        "validation_steps=45,\n",
        "callbacks = [checkpoint, early],\n",
        "verbose=1)"
      ],
      "execution_count": 65,
      "outputs": [
        {
          "output_type": "stream",
          "text": [
            "Epoch 1/5\n",
            "109/109 [==============================] - 54s 497ms/step - loss: 3.0151 - acc: 0.4105 - val_loss: 1.2662 - val_acc: 0.5737\n",
            "\n",
            "Epoch 00001: val_acc improved from -inf to 0.57370, saving model to vgg16_1.h5\n",
            "Epoch 2/5\n",
            "109/109 [==============================] - 46s 424ms/step - loss: 1.4482 - acc: 0.5659 - val_loss: 1.0527 - val_acc: 0.6667\n",
            "\n",
            "Epoch 00002: val_acc improved from 0.57370 to 0.66667, saving model to vgg16_1.h5\n",
            "Epoch 3/5\n",
            "109/109 [==============================] - 47s 428ms/step - loss: 1.1275 - acc: 0.6450 - val_loss: 0.9702 - val_acc: 0.7007\n",
            "\n",
            "Epoch 00003: val_acc improved from 0.66667 to 0.70068, saving model to vgg16_1.h5\n",
            "Epoch 4/5\n",
            "109/109 [==============================] - 47s 428ms/step - loss: 0.9154 - acc: 0.6975 - val_loss: 0.8611 - val_acc: 0.7143\n",
            "\n",
            "Epoch 00004: val_acc improved from 0.70068 to 0.71429, saving model to vgg16_1.h5\n",
            "Epoch 5/5\n",
            "109/109 [==============================] - 47s 431ms/step - loss: 0.8047 - acc: 0.7290 - val_loss: 0.7809 - val_acc: 0.7347\n",
            "\n",
            "Epoch 00005: val_acc improved from 0.71429 to 0.73469, saving model to vgg16_1.h5\n"
          ],
          "name": "stdout"
        },
        {
          "output_type": "execute_result",
          "data": {
            "text/plain": [
              "<keras.callbacks.History at 0x7f71b1bc3048>"
            ]
          },
          "metadata": {
            "tags": []
          },
          "execution_count": 65
        }
      ]
    },
    {
      "metadata": {
        "id": "9PTNLt9c0u6Y",
        "colab_type": "text"
      },
      "cell_type": "markdown",
      "source": [
        "## 4.4 Test the Model with External Test Images"
      ]
    },
    {
      "metadata": {
        "id": "T_eTPtpA0u6Z",
        "colab_type": "code",
        "colab": {}
      },
      "cell_type": "code",
      "source": [
        "\n",
        "# Your data file was loaded into a botocore.response.StreamingBody object.\n",
        "# Please read the documentation of ibm_boto3 and pandas to learn more about your possibilities to load the data.\n",
        "# ibm_boto3 documentation: https://ibm.github.io/ibm-cos-sdk-python/\n",
        "# pandas documentation: http://pandas.pydata.org/\n",
        "streaming_body_2 = client_8e7d0cae69cd45ec8430f0389e234d95.get_object(Bucket='imagerecognitionpattern-donotdelete-pr-7whfpase0vr47w', Key='test_doc-external.zip')['Body']\n",
        "# add missing __iter__ method so pandas accepts body as file-like object\n",
        "if not hasattr(streaming_body_2, \"__iter__\"): streaming_body_2.__iter__ = types.MethodType( __iter__, streaming_body_2 ) \n",
        "\n"
      ],
      "execution_count": 0,
      "outputs": []
    },
    {
      "metadata": {
        "id": "J9XEv62q0u6d",
        "colab_type": "code",
        "colab": {}
      },
      "cell_type": "code",
      "source": [
        "#model.save_weights('my_model_weights.h5')\n",
        "#model.load_weights('my_model_weights.h5')"
      ],
      "execution_count": 0,
      "outputs": []
    },
    {
      "metadata": {
        "id": "xoVvVFNp0u6h",
        "colab_type": "code",
        "outputId": "f5f86327-0f30-4ff4-e780-d6a94e83c940",
        "colab": {}
      },
      "cell_type": "code",
      "source": [
        "from io import BytesIO\n",
        "import zipfile\n",
        "\n",
        "zip_ref = zipfile.ZipFile(BytesIO(streaming_body_2.read()),'r')\n",
        "paths = zip_ref.namelist()\n",
        "del paths[0]\n",
        "print(paths)\n",
        "for path in paths:\n",
        "    print(zip_ref.extract(path))\n",
        "zip_ref.close()"
      ],
      "execution_count": 0,
      "outputs": [
        {
          "output_type": "stream",
          "text": [
            "['test_doc-external/Form1 copy 2.jpg', 'test_doc-external/pan copy 2.jpg', 'test_doc-external/cheque copy 2.jpg', 'test_doc-external/driving_license_2 copy 2.jpg', 'test_doc-external/passport copy 2.jpg']\n",
            "/home/dsxuser/work/test_doc-external/Form1 copy 2.jpg\n",
            "/home/dsxuser/work/test_doc-external/pan copy 2.jpg\n",
            "/home/dsxuser/work/test_doc-external/cheque copy 2.jpg\n",
            "/home/dsxuser/work/test_doc-external/driving_license_2 copy 2.jpg\n",
            "/home/dsxuser/work/test_doc-external/passport copy 2.jpg\n"
          ],
          "name": "stdout"
        }
      ]
    },
    {
      "metadata": {
        "id": "ktKzPyLe0u6m",
        "colab_type": "code",
        "colab": {}
      },
      "cell_type": "code",
      "source": [
        "X_test=[]\n",
        "def convert_to_image(X):\n",
        "    '''Function to convert all Input Images to the STANDARD_SIZE and create Training Dataset\n",
        "    '''\n",
        "    for f in paths:\n",
        "        #fobj=get_file(f)\n",
        "        #print(type(fobj))predictions= model.predict(X_test)\n",
        "        if os.path.isdir(f):\n",
        "            continue\n",
        "        img= PIL.Image.open(f)\n",
        "        img = img.resize(STANDARD_SIZE)\n",
        "        img=np.array(img)\n",
        "        X.append(img)\n",
        "        #print(X_train)\n",
        "    #print(len(X_train))\n",
        "    return X\n",
        "X_test=np.array(convert_to_image(X_test))\n",
        "datagen.fit(X_test)"
      ],
      "execution_count": 0,
      "outputs": []
    },
    {
      "metadata": {
        "id": "JIU40k8w0u6p",
        "colab_type": "code",
        "outputId": "2f7b894d-fda8-4267-8163-c5fa5c374fba",
        "colab": {}
      },
      "cell_type": "code",
      "source": [
        "predictions= model.predict(X_test)\n",
        "predictions"
      ],
      "execution_count": 0,
      "outputs": [
        {
          "output_type": "execute_result",
          "data": {
            "text/plain": [
              "array([[ 0.47580448,  0.47760704,  0.51829034,  0.50596583,  0.47304007],\n",
              "       [ 0.47949249,  0.4817391 ,  0.47868609,  0.51169461,  0.49393257],\n",
              "       [ 0.51717132,  0.4783558 ,  0.47287402,  0.50082076,  0.48920417],\n",
              "       [ 0.50053394,  0.47719797,  0.47839782,  0.49702418,  0.51833802],\n",
              "       [ 0.4910911 ,  0.52186197,  0.5108099 ,  0.48280653,  0.47803456]], dtype=float32)"
            ]
          },
          "metadata": {
            "tags": []
          },
          "execution_count": 23
        }
      ]
    },
    {
      "metadata": {
        "id": "GGuhH5kD0u6u",
        "colab_type": "code",
        "outputId": "6f8da331-06ef-41c6-c410-e537c58e486f",
        "colab": {}
      },
      "cell_type": "code",
      "source": [
        "y_pred=[]\n",
        "for i in range(len(predictions)):\n",
        "    y_pred.append(np.argmax(predictions[i]))\n",
        "y_pred\n",
        "j = 0\n",
        "for i in y_pred:\n",
        "    print(paths[y_pred[j]])\n",
        "    j = j + 1"
      ],
      "execution_count": 0,
      "outputs": [
        {
          "output_type": "stream",
          "text": [
            "test_doc-external/cheque copy 2.jpg\n",
            "test_doc-external/driving_license_2 copy 2.jpg\n",
            "test_doc-external/Form1 copy 2.jpg\n",
            "test_doc-external/passport copy 2.jpg\n",
            "test_doc-external/pan copy 2.jpg\n"
          ],
          "name": "stdout"
        }
      ]
    },
    {
      "metadata": {
        "id": "5IkEA0xr0u60",
        "colab_type": "code",
        "outputId": "5cdf6f76-3dff-48b9-8506-8ffd15eda0b4",
        "colab": {}
      },
      "cell_type": "code",
      "source": [
        "#print(classes_required)\n",
        "index= classes_required.index('Documents')\n",
        "for i in range(len(y_pred)):\n",
        "    if y_pred[i] == index:\n",
        "        print(\"Image classified as a form document: \", paths[i])"
      ],
      "execution_count": 0,
      "outputs": [
        {
          "output_type": "stream",
          "text": [
            "Image classified as a form document:  test_doc-external/Form1 copy 2.jpg\n"
          ],
          "name": "stdout"
        }
      ]
    },
    {
      "metadata": {
        "id": "D61BVhHc0u64",
        "colab_type": "text"
      },
      "cell_type": "markdown",
      "source": [
        "## 4.5 Accuracy Testing"
      ]
    },
    {
      "metadata": {
        "id": "owor03NP0u66",
        "colab_type": "code",
        "outputId": "9c1b0ea9-cc5b-4819-dd6d-3147eb21006c",
        "colab": {}
      },
      "cell_type": "code",
      "source": [
        "predictions = model.predict_generator(test_batches, steps=1, verbose=0)\n",
        "predictions"
      ],
      "execution_count": 0,
      "outputs": [
        {
          "output_type": "execute_result",
          "data": {
            "text/plain": [
              "array([[ 0.51717132,  0.4783558 ,  0.47287402,  0.50082076,  0.48920417],\n",
              "       [ 0.50053394,  0.47719797,  0.47839782,  0.49702418,  0.51833802],\n",
              "       [ 0.47949249,  0.4817391 ,  0.47868609,  0.51169461,  0.49393257],\n",
              "       [ 0.4910911 ,  0.52186197,  0.5108099 ,  0.48280653,  0.47803456],\n",
              "       [ 0.47580448,  0.47760704,  0.51829034,  0.50596583,  0.47304007]], dtype=float32)"
            ]
          },
          "metadata": {
            "tags": []
          },
          "execution_count": 26
        }
      ]
    },
    {
      "metadata": {
        "id": "DRw0lYAz0u6_",
        "colab_type": "code",
        "outputId": "e5f0512c-f3ff-4cb7-f08e-18939bd8db3e",
        "colab": {}
      },
      "cell_type": "code",
      "source": [
        "predictions\n",
        "y_pred=[]\n",
        "for i in range(len(predictions)):\n",
        "    y_pred.append(np.argmax(predictions[i]))\n",
        "print(y_pred)\n",
        "#plots(test_imgs, titles=y_pred)\n",
        "\n",
        "ctr=0\n",
        "for i in range(len(y_pred)):\n",
        "    if y_pred[i] == y_test[i]:\n",
        "        ctr=ctr+1\n",
        "res = ctr/len(y_pred)*100\n",
        "print(res)\n"
      ],
      "execution_count": 0,
      "outputs": [
        {
          "output_type": "stream",
          "text": [
            "[0, 4, 3, 1, 2]\n",
            "100.0\n"
          ],
          "name": "stdout"
        }
      ]
    },
    {
      "metadata": {
        "id": "iJigzGW00u7C",
        "colab_type": "code",
        "colab": {}
      },
      "cell_type": "code",
      "source": [
        ""
      ],
      "execution_count": 0,
      "outputs": []
    },
    {
      "metadata": {
        "id": "9zeH39Qt0u7E",
        "colab_type": "code",
        "colab": {}
      },
      "cell_type": "code",
      "source": [
        ""
      ],
      "execution_count": 0,
      "outputs": []
    }
  ]
}