{
  "nbformat": 4,
  "nbformat_minor": 0,
  "metadata": {
    "colab": {
      "name": "classification via NLP and information extraction.ipynb",
      "version": "0.3.2",
      "provenance": [],
      "toc_visible": true
    },
    "kernelspec": {
      "name": "python3",
      "display_name": "Python 3"
    },
    "accelerator": "GPU"
  },
  "cells": [
    {
      "cell_type": "markdown",
      "metadata": {
        "id": "k3BTEFBIVvIt",
        "colab_type": "text"
      },
      "source": [
        "#1 Extract text from images "
      ]
    },
    {
      "cell_type": "markdown",
      "metadata": {
        "id": "RtWXoLgTV5fu",
        "colab_type": "text"
      },
      "source": [
        "##1.1 Get all the pictures from google drive\n",
        "We need to install pytesseract and the tesseract engine also"
      ]
    },
    {
      "cell_type": "code",
      "metadata": {
        "id": "DHN8QfRX4Etc",
        "colab_type": "code",
        "colab": {}
      },
      "source": [
        "!pip install pytesseract"
      ],
      "execution_count": 0,
      "outputs": []
    },
    {
      "cell_type": "code",
      "metadata": {
        "id": "94i2LuCQVrSg",
        "colab_type": "code",
        "colab": {}
      },
      "source": [
        "!sudo apt install tesseract-ocr"
      ],
      "execution_count": 0,
      "outputs": []
    },
    {
      "cell_type": "code",
      "metadata": {
        "id": "dA6L8EIg4Etk",
        "colab_type": "code",
        "colab": {}
      },
      "source": [
        "import pytesseract\n",
        "import shutil\n",
        "import os\n",
        "import random\n",
        "try:\n",
        "    from PIL import Image\n",
        "except ImportError:\n",
        "    import Image"
      ],
      "execution_count": 0,
      "outputs": []
    },
    {
      "cell_type": "markdown",
      "metadata": {
        "id": "d529NqB1WDBX",
        "colab_type": "text"
      },
      "source": [
        "###Write a code to Test Tesseract"
      ]
    },
    {
      "cell_type": "code",
      "metadata": {
        "id": "b5iPtjuY7M_L",
        "colab_type": "code",
        "outputId": "3470175d-be9f-43b5-9853-760e9c0e4fa1",
        "colab": {
          "resources": {
            "http://localhost:8080/nbextensions/google.colab/files.js": {
              "data": "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",
              "ok": true,
              "headers": [
                [
                  "content-type",
                  "application/javascript"
                ]
              ],
              "status": 200,
              "status_text": ""
            }
          },
          "base_uri": "https://localhost:8080/",
          "height": 75
        }
      },
      "source": [
        "\n",
        "from google.colab import files\n",
        "\n",
        "uploaded = files.upload()"
      ],
      "execution_count": 0,
      "outputs": [
        {
          "output_type": "display_data",
          "data": {
            "text/html": [
              "\n",
              "     <input type=\"file\" id=\"files-b10e4a3b-e06b-4698-b9b2-ad04a40b5de5\" name=\"files[]\" multiple disabled />\n",
              "     <output id=\"result-b10e4a3b-e06b-4698-b9b2-ad04a40b5de5\">\n",
              "      Upload widget is only available when the cell has been executed in the\n",
              "      current browser session. Please rerun this cell to enable.\n",
              "      </output>\n",
              "      <script src=\"/nbextensions/google.colab/files.js\"></script> "
            ],
            "text/plain": [
              "<IPython.core.display.HTML object>"
            ]
          },
          "metadata": {
            "tags": []
          }
        },
        {
          "output_type": "stream",
          "text": [
            "Saving neco.jpg to neco.jpg\n"
          ],
          "name": "stdout"
        }
      ]
    },
    {
      "cell_type": "code",
      "metadata": {
        "id": "x1gyU9Lc6tGk",
        "colab_type": "code",
        "colab": {}
      },
      "source": [
        "extractedInformation = pytesseract.image_to_string(Image.open('neco.jpg'))"
      ],
      "execution_count": 0,
      "outputs": []
    },
    {
      "cell_type": "code",
      "metadata": {
        "id": "RJCBRgZ65G0C",
        "colab_type": "code",
        "outputId": "600df1ad-3e9a-4a14-d69c-a404c9642758",
        "colab": {
          "base_uri": "https://localhost:8080/",
          "height": 35
        }
      },
      "source": [
        "!ls"
      ],
      "execution_count": 0,
      "outputs": [
        {
          "output_type": "stream",
          "text": [
            "sample_data\n"
          ],
          "name": "stdout"
        }
      ]
    },
    {
      "cell_type": "code",
      "metadata": {
        "id": "6HWGsYBpU37a",
        "colab_type": "code",
        "colab": {}
      },
      "source": [
        "with open(\"copy.txt\", \"w\") as file:\n",
        "    file.write(extractedInformation)"
      ],
      "execution_count": 0,
      "outputs": []
    },
    {
      "cell_type": "markdown",
      "metadata": {
        "id": "c8K7wzV-WQ_h",
        "colab_type": "text"
      },
      "source": [
        "###Get data from google drive\n",
        "\n",
        "I plan on using only 3 classes as they are the only ones with clear data. \n",
        "The tobacco 3842 dataset has Advertisement, email, form, letter, memo, news, note, report. But we would be using email, letter and memo \n"
      ]
    },
    {
      "cell_type": "code",
      "metadata": {
        "id": "O3l95Md3bLMb",
        "colab_type": "code",
        "outputId": "d8f7d8ff-1815-4513-d363-42afe76a8126",
        "colab": {
          "base_uri": "https://localhost:8080/",
          "height": 121
        }
      },
      "source": [
        "# Install the PyDrive wrapper & import libraries.\n",
        "# This only needs to be done once per notebook.\n",
        "!pip install -U -q PyDrive\n",
        "from pydrive.auth import GoogleAuth\n",
        "from pydrive.drive import GoogleDrive\n",
        "from google.colab import auth\n",
        "from oauth2client.client import GoogleCredentials\n",
        "\n",
        "# Authenticate and create the PyDrive client.\n",
        "# This only needs to be done once per notebook.\n",
        "auth.authenticate_user()\n",
        "gauth = GoogleAuth()\n",
        "gauth.credentials = GoogleCredentials.get_application_default()\n",
        "drive = GoogleDrive(gauth)\n",
        "\n",
        "# List .txt files in the root.\n",
        "#\n",
        "# Search query reference:\n",
        "# https://developers.google.com/drive/v2/web/search-parameters\n",
        "listed = drive.ListFile({'q': \"title contains '.zip'\"}).GetList()\n",
        "for file in listed:\n",
        "  print('title {}, id {}'.format(file['title'], file['id']))"
      ],
      "execution_count": 0,
      "outputs": [
        {
          "output_type": "stream",
          "text": [
            "\u001b[?25l\r\u001b[K    1% |▎                               | 10kB 22.8MB/s eta 0:00:01\r\u001b[K    2% |▋                               | 20kB 4.8MB/s eta 0:00:01\r\u001b[K    3% |█                               | 30kB 6.8MB/s eta 0:00:01\r\u001b[K    4% |█▎                              | 40kB 4.5MB/s eta 0:00:01\r\u001b[K    5% |█▋                              | 51kB 5.5MB/s eta 0:00:01\r\u001b[K    6% |██                              | 61kB 6.4MB/s eta 0:00:01\r\u001b[K    7% |██▎                             | 71kB 7.3MB/s eta 0:00:01\r\u001b[K    8% |██▋                             | 81kB 8.2MB/s eta 0:00:01\r\u001b[K    9% |███                             | 92kB 9.0MB/s eta 0:00:01\r\u001b[K    10% |███▎                            | 102kB 7.2MB/s eta 0:00:01\r\u001b[K    11% |███▋                            | 112kB 7.3MB/s eta 0:00:01\r\u001b[K    12% |████                            | 122kB 9.8MB/s eta 0:00:01\r\u001b[K    13% |████▎                           | 133kB 9.8MB/s eta 0:00:01\r\u001b[K    14% |████▋                           | 143kB 16.9MB/s eta 0:00:01\r\u001b[K    15% |█████                           | 153kB 17.1MB/s eta 0:00:01\r\u001b[K    16% |█████▎                          | 163kB 16.9MB/s eta 0:00:01\r\u001b[K    17% |█████▋                          | 174kB 16.5MB/s eta 0:00:01\r\u001b[K    18% |██████                          | 184kB 16.7MB/s eta 0:00:01\r\u001b[K    19% |██████▎                         | 194kB 16.7MB/s eta 0:00:01\r\u001b[K    20% |██████▋                         | 204kB 41.6MB/s eta 0:00:01\r\u001b[K    21% |███████                         | 215kB 18.8MB/s eta 0:00:01\r\u001b[K    22% |███████▎                        | 225kB 18.9MB/s eta 0:00:01\r\u001b[K    23% |███████▋                        | 235kB 19.2MB/s eta 0:00:01\r\u001b[K    24% |████████                        | 245kB 19.2MB/s eta 0:00:01\r\u001b[K    25% |████████▎                       | 256kB 19.3MB/s eta 0:00:01\r\u001b[K    26% |████████▋                       | 266kB 18.5MB/s eta 0:00:01\r\u001b[K    27% |█████████                       | 276kB 19.2MB/s eta 0:00:01\r\u001b[K    29% |█████████▎                      | 286kB 19.3MB/s eta 0:00:01\r\u001b[K    30% |█████████▋                      | 296kB 19.2MB/s eta 0:00:01\r\u001b[K    31% |██████████                      | 307kB 19.7MB/s eta 0:00:01\r\u001b[K    32% |██████████▎                     | 317kB 49.0MB/s eta 0:00:01\r\u001b[K    33% |██████████▋                     | 327kB 48.0MB/s eta 0:00:01\r\u001b[K    34% |███████████                     | 337kB 48.7MB/s eta 0:00:01\r\u001b[K    35% |███████████▎                    | 348kB 44.5MB/s eta 0:00:01\r\u001b[K    36% |███████████▋                    | 358kB 44.5MB/s eta 0:00:01\r\u001b[K    37% |████████████                    | 368kB 50.5MB/s eta 0:00:01\r\u001b[K    38% |████████████▎                   | 378kB 33.6MB/s eta 0:00:01\r\u001b[K    39% |████████████▋                   | 389kB 33.6MB/s eta 0:00:01\r\u001b[K    40% |█████████████                   | 399kB 33.7MB/s eta 0:00:01\r\u001b[K    41% |█████████████▎                  | 409kB 32.2MB/s eta 0:00:01\r\u001b[K    42% |█████████████▋                  | 419kB 32.3MB/s eta 0:00:01\r\u001b[K    43% |██████████████                  | 430kB 31.5MB/s eta 0:00:01\r\u001b[K    44% |██████████████▎                 | 440kB 31.5MB/s eta 0:00:01\r\u001b[K    45% |██████████████▋                 | 450kB 32.3MB/s eta 0:00:01\r\u001b[K    46% |███████████████                 | 460kB 32.2MB/s eta 0:00:01\r\u001b[K    47% |███████████████▎                | 471kB 32.2MB/s eta 0:00:01\r\u001b[K    48% |███████████████▋                | 481kB 47.5MB/s eta 0:00:01\r\u001b[K    49% |████████████████                | 491kB 47.2MB/s eta 0:00:01\r\u001b[K    50% |████████████████▎               | 501kB 47.2MB/s eta 0:00:01\r\u001b[K    51% |████████████████▋               | 512kB 47.5MB/s eta 0:00:01\r\u001b[K    52% |█████████████████               | 522kB 47.5MB/s eta 0:00:01\r\u001b[K    53% |█████████████████▎              | 532kB 50.5MB/s eta 0:00:01\r\u001b[K    54% |█████████████████▋              | 542kB 50.4MB/s eta 0:00:01\r\u001b[K    55% |██████████████████              | 552kB 53.9MB/s eta 0:00:01\r\u001b[K    57% |██████████████████▎             | 563kB 54.1MB/s eta 0:00:01\r\u001b[K    58% |██████████████████▋             | 573kB 52.8MB/s eta 0:00:01\r\u001b[K    59% |███████████████████             | 583kB 52.8MB/s eta 0:00:01\r\u001b[K    60% |███████████████████▎            | 593kB 53.0MB/s eta 0:00:01\r\u001b[K    61% |███████████████████▋            | 604kB 53.5MB/s eta 0:00:01\r\u001b[K    62% |████████████████████            | 614kB 57.2MB/s eta 0:00:01\r\u001b[K    63% |████████████████████▎           | 624kB 56.6MB/s eta 0:00:01\r\u001b[K    64% |████████████████████▋           | 634kB 54.4MB/s eta 0:00:01\r\u001b[K    65% |█████████████████████           | 645kB 54.5MB/s eta 0:00:01\r\u001b[K    66% |█████████████████████▎          | 655kB 54.1MB/s eta 0:00:01\r\u001b[K    67% |█████████████████████▋          | 665kB 41.7MB/s eta 0:00:01\r\u001b[K    68% |██████████████████████          | 675kB 41.7MB/s eta 0:00:01\r\u001b[K    69% |██████████████████████▎         | 686kB 40.9MB/s eta 0:00:01\r\u001b[K    70% |██████████████████████▋         | 696kB 40.7MB/s eta 0:00:01\r\u001b[K    71% |███████████████████████         | 706kB 40.2MB/s eta 0:00:01\r\u001b[K    72% |███████████████████████▎        | 716kB 40.4MB/s eta 0:00:01\r\u001b[K    73% |███████████████████████▋        | 727kB 39.9MB/s eta 0:00:01\r\u001b[K    74% |████████████████████████        | 737kB 40.4MB/s eta 0:00:01\r\u001b[K    75% |████████████████████████▎       | 747kB 40.9MB/s eta 0:00:01\r\u001b[K    76% |████████████████████████▋       | 757kB 40.9MB/s eta 0:00:01\r\u001b[K    77% |████████████████████████▉       | 768kB 53.1MB/s eta 0:00:01\r\u001b[K    78% |█████████████████████████▏      | 778kB 53.5MB/s eta 0:00:01\r\u001b[K    79% |█████████████████████████▌      | 788kB 53.4MB/s eta 0:00:01\r\u001b[K    80% |█████████████████████████▉      | 798kB 54.3MB/s eta 0:00:01\r\u001b[K    81% |██████████████████████████▏     | 808kB 55.2MB/s eta 0:00:01\r\u001b[K    82% |██████████████████████████▌     | 819kB 55.0MB/s eta 0:00:01\r\u001b[K    83% |██████████████████████████▉     | 829kB 56.7MB/s eta 0:00:01\r\u001b[K    85% |███████████████████████████▏    | 839kB 57.2MB/s eta 0:00:01\r\u001b[K    86% |███████████████████████████▌    | 849kB 55.6MB/s eta 0:00:01\r\u001b[K    87% |███████████████████████████▉    | 860kB 50.3MB/s eta 0:00:01\r\u001b[K    88% |████████████████████████████▏   | 870kB 50.2MB/s eta 0:00:01\r\u001b[K    89% |████████████████████████████▌   | 880kB 51.1MB/s eta 0:00:01\r\u001b[K    90% |████████████████████████████▉   | 890kB 52.8MB/s eta 0:00:01\r\u001b[K    91% |█████████████████████████████▏  | 901kB 51.7MB/s eta 0:00:01\r\u001b[K    92% |█████████████████████████████▌  | 911kB 51.5MB/s eta 0:00:01\r\u001b[K    93% |█████████████████████████████▉  | 921kB 50.9MB/s eta 0:00:01\r\u001b[K    94% |██████████████████████████████▏ | 931kB 51.1MB/s eta 0:00:01\r\u001b[K    95% |██████████████████████████████▌ | 942kB 51.5MB/s eta 0:00:01\r\u001b[K    96% |██████████████████████████████▉ | 952kB 52.0MB/s eta 0:00:01\r\u001b[K    97% |███████████████████████████████▏| 962kB 58.4MB/s eta 0:00:01\r\u001b[K    98% |███████████████████████████████▌| 972kB 58.2MB/s eta 0:00:01\r\u001b[K    99% |███████████████████████████████▉| 983kB 56.4MB/s eta 0:00:01\r\u001b[K    100% |████████████████████████████████| 993kB 19.6MB/s \n",
            "\u001b[?25h  Building wheel for PyDrive (setup.py) ... \u001b[?25ldone\n",
            "\u001b[?25htitle data.zip, id 1pMEgJWXyKopKo5OQTSpG1pTK8XFj7Cg9\n",
            "title firebase-arduino-master.zip, id 0B4tww7CJlZPyUTd1enFxNklKOE0\n",
            "title Re Zero Kara Hajimeru v09.zip, id 0B-1T9fhvtxApbjRIM2NZcGdjVFE\n",
            "title Re Zero Kara Hajimeru v08.zip, id 0B-1T9fhvtxApRWZhaXpkSEZ4S1E\n"
          ],
          "name": "stdout"
        }
      ]
    },
    {
      "cell_type": "code",
      "metadata": {
        "id": "YaNxaDXvcAB_",
        "colab_type": "code",
        "colab": {}
      },
      "source": [
        "# Install the PyDrive wrapper & import libraries.\n",
        "# This only needs to be done once per notebook.\n",
        "!pip install -U -q PyDrive\n",
        "from pydrive.auth import GoogleAuth\n",
        "from pydrive.drive import GoogleDrive\n",
        "from google.colab import auth\n",
        "from oauth2client.client import GoogleCredentials\n",
        "\n",
        "# Authenticate and create the PyDrive client.\n",
        "# This only needs to be done once per notebook.\n",
        "auth.authenticate_user()\n",
        "gauth = GoogleAuth()\n",
        "gauth.credentials = GoogleCredentials.get_application_default()\n",
        "drive = GoogleDrive(gauth)\n",
        "\n",
        "# Download a file based on its file ID.\n",
        "#\n",
        "# A file ID looks like: laggVyWshwcyP6kEI-y_W3P8D26sz\n",
        "file_id = '1pMEgJWXyKopKo5OQTSpG1pTK8XFj7Cg9'\n",
        "downloaded = drive.CreateFile({'id': file_id})\n",
        "downloaded.GetContentFile('data.zip')"
      ],
      "execution_count": 0,
      "outputs": []
    },
    {
      "cell_type": "code",
      "metadata": {
        "id": "iM7KB5K8c1jI",
        "colab_type": "code",
        "colab": {}
      },
      "source": [
        "!unzip data.zip"
      ],
      "execution_count": 0,
      "outputs": []
    },
    {
      "cell_type": "code",
      "metadata": {
        "id": "8Xyjz9i3dBr6",
        "colab_type": "code",
        "outputId": "f5e25792-e6cc-435c-addf-a3416f929cee",
        "colab": {
          "base_uri": "https://localhost:8080/",
          "height": 35
        }
      },
      "source": [
        "path = os.getcwd()  \n",
        "print (\"The current working directory is {}\" .format(path))"
      ],
      "execution_count": 0,
      "outputs": [
        {
          "output_type": "stream",
          "text": [
            "The current working directory is /content\n"
          ],
          "name": "stdout"
        }
      ]
    },
    {
      "cell_type": "code",
      "metadata": {
        "id": "zIqJFvz4e1pO",
        "colab_type": "code",
        "outputId": "33281970-386b-40da-c414-b5152d0d2659",
        "colab": {
          "base_uri": "https://localhost:8080/",
          "height": 35
        }
      },
      "source": [
        "!ls"
      ],
      "execution_count": 0,
      "outputs": [
        {
          "output_type": "stream",
          "text": [
            "adc.json  data\tdata.zip  sample_data\n"
          ],
          "name": "stdout"
        }
      ]
    },
    {
      "cell_type": "markdown",
      "metadata": {
        "id": "bGYM-OH6WKqn",
        "colab_type": "text"
      },
      "source": [
        "The data folder has three folders called train, test and val. Each of these folders contains our three classes of data: email, letter and memo. "
      ]
    },
    {
      "cell_type": "code",
      "metadata": {
        "id": "zYrNGn8xmq9g",
        "colab_type": "code",
        "colab": {}
      },
      "source": [
        "classes = [\"Email\",\"Letter\",\"Memo\"]; \n",
        "dataFolders = [\"train\",\"test\",\"val\"];"
      ],
      "execution_count": 0,
      "outputs": []
    },
    {
      "cell_type": "code",
      "metadata": {
        "id": "vJAOgiLKediW",
        "colab_type": "code",
        "outputId": "4e5fd2f9-3f23-4b66-bf4d-b44e9c3615c6",
        "colab": {
          "base_uri": "https://localhost:8080/",
          "height": 35
        }
      },
      "source": [
        "# path names for the original data, train and test data\n",
        "# dataDirPath = os.path.join(path, dataDir)\n",
        "ImageDataDirPath = os.path.join(path, \"data\")\n",
        "\n",
        "\n",
        "extractedDataFolderPath = os.path.join(path, \"extractedData\")\n",
        "\n",
        "print(extractedDataFolderPath)"
      ],
      "execution_count": 0,
      "outputs": [
        {
          "output_type": "stream",
          "text": [
            "/content/extractedData\n"
          ],
          "name": "stdout"
        }
      ]
    },
    {
      "cell_type": "code",
      "metadata": {
        "id": "DJEcfbvipPm-",
        "colab_type": "code",
        "colab": {}
      },
      "source": [
        "#make a directory to keep extracted text data\n",
        "for dataFolder in dataFolders:\n",
        "  for className in classes:\n",
        "    os.makedirs(os.path.join(extractedDataFolderPath, dataFolder,className))\n",
        "  "
      ],
      "execution_count": 0,
      "outputs": []
    },
    {
      "cell_type": "markdown",
      "metadata": {
        "id": "NuD1UyR4WpuM",
        "colab_type": "text"
      },
      "source": [
        "Extract information from each file and store it as a .txt file in a new folder called extractedData. The filenames of the .txt files should be the same as the image files."
      ]
    },
    {
      "cell_type": "code",
      "metadata": {
        "id": "HDFRuubtr5M-",
        "colab_type": "code",
        "colab": {}
      },
      "source": [
        "def extract_information_store_in_directory(filePaths, dataFolder, className):  \n",
        "  \n",
        "  for filePath in filePaths:\n",
        "    extractedInformation = pytesseract.image_to_string(Image.open(filePath))\n",
        "    print(filePath)\n",
        "    fileName = filePath.split('/')[-1].split('.tif')[0] + '.txt' \n",
        "    \n",
        "    print(fileName)\n",
        "    #split by / and get the last value in array, then remove.tif\n",
        "    \n",
        "    directoryToStoreFile = os.path.join(extractedDataFolderPath,dataFolder,className)\n",
        "    print(directoryToStoreFile)\n",
        "\n",
        "    fileToStoreExtractedInformation = os.path.join(directoryToStoreFile, fileName)\n",
        "    print(fileToStoreExtractedInformation)\n",
        "    with open(fileToStoreExtractedInformation, \"w\") as file:\n",
        "      file.write(extractedInformation)\n",
        "  \n",
        "  "
      ],
      "execution_count": 0,
      "outputs": []
    },
    {
      "cell_type": "code",
      "metadata": {
        "id": "aoTyDiJRfUYY",
        "colab_type": "code",
        "colab": {}
      },
      "source": [
        "for dataFolder in dataFolders:\n",
        "  for className in classes:\n",
        "    imageClassFolderFilePath = os.path.join(ImageDataDirPath, dataFolder,className)\n",
        "    filesInImageClassFolder = os.listdir(imageClassFolderFilePath)\n",
        "    print(imageClassFolderFilePath)\n",
        "\n",
        "    filesInImageClassFolderPath = [os.path.join(imageClassFolderFilePath, f) for f in filesInImageClassFolder if f.endswith('.tif')]\n",
        "    print(len(filesInImageClassFolderPath))\n",
        "  \n",
        "    extract_information_store_in_directory(filesInImageClassFolderPath, dataFolder, className)\n",
        "  \n"
      ],
      "execution_count": 0,
      "outputs": []
    },
    {
      "cell_type": "markdown",
      "metadata": {
        "id": "Z_egrNb_W_rb",
        "colab_type": "text"
      },
      "source": [
        "Download extracted file"
      ]
    },
    {
      "cell_type": "code",
      "metadata": {
        "id": "vkzw0KXEigNs",
        "colab_type": "code",
        "colab": {}
      },
      "source": [
        "!zip -r extractedData.zip extractedData\n",
        "\n",
        "from google.colab import files\n",
        "files.download(\"/content/extractedData.zip\")"
      ],
      "execution_count": 0,
      "outputs": []
    }
  ]
}