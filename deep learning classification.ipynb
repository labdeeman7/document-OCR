{
  "nbformat": 4,
  "nbformat_minor": 0,
  "metadata": {
    "colab": {
      "name": "deep learning classification.ipynb",
      "version": "0.3.2",
      "provenance": [],
      "toc_visible": true
    },
    "kernelspec": {
      "name": "python2",
      "display_name": "Python 2"
    }
  },
  "cells": [
    {
      "cell_type": "markdown",
      "metadata": {
        "id": "bh9ZWF0qxMQ5",
        "colab_type": "text"
      },
      "source": [
        "#Deep learning solution for classification of documents\n"
      ]
    },
    {
      "cell_type": "markdown",
      "metadata": {
        "id": "ajOjHZ-FxXS9",
        "colab_type": "text"
      },
      "source": [
        "##1.1 Explanation\n",
        "We would be using various deeplearning algorithms to try and classify our classes between letters, memos and forms\n",
        "\n",
        "As usual, we have to get our extracted data fro google drive "
      ]
    },
    {
      "cell_type": "code",
      "metadata": {
        "id": "q3AMCfC0x4Ji",
        "colab_type": "code",
        "colab": {}
      },
      "source": [
        "# Install the PyDrive wrapper & import libraries.\n",
        "# This only needs to be done once per notebook.\n",
        "!pip install -U -q PyDrive\n",
        "from pydrive.auth import GoogleAuth\n",
        "from pydrive.drive import GoogleDrive\n",
        "from google.colab import auth\n",
        "from oauth2client.client import GoogleCredentials\n",
        "\n",
        "# Authenticate and create the PyDrive client.\n",
        "# This only needs to be done once per notebook.\n",
        "auth.authenticate_user()\n",
        "gauth = GoogleAuth()\n",
        "gauth.credentials = GoogleCredentials.get_application_default()\n",
        "drive = GoogleDrive(gauth)\n",
        "\n",
        "# List .txt files in the root.\n",
        "#\n",
        "# Search query reference:\n",
        "# https://developers.google.com/drive/v2/web/search-parameters\n",
        "listed = drive.ListFile({'q': \"title contains '.zip'\"}).GetList()\n",
        "for file in listed:\n",
        "  print('title {}, id {}'.format(file['title'], file['id']))"
      ],
      "execution_count": 0,
      "outputs": []
    },
    {
      "cell_type": "code",
      "metadata": {
        "id": "xEPylqfPyGdf",
        "colab_type": "code",
        "colab": {}
      },
      "source": [
        "# Install the PyDrive wrapper & import libraries.\n",
        "# This only needs to be done once per notebook.\n",
        "!pip install -U -q PyDrive\n",
        "from pydrive.auth import GoogleAuth\n",
        "from pydrive.drive import GoogleDrive\n",
        "from google.colab import auth\n",
        "from oauth2client.client import GoogleCredentials\n",
        "\n",
        "# Authenticate and create the PyDrive client.\n",
        "# This only needs to be done once per notebook.\n",
        "auth.authenticate_user()\n",
        "gauth = GoogleAuth()\n",
        "gauth.credentials = GoogleCredentials.get_application_default()\n",
        "drive = GoogleDrive(gauth)\n",
        "\n",
        "# Download a file based on its file ID.\n",
        "#\n",
        "# A file ID looks like: laggVyWshwcyP6kEI-y_W3P8D26sz\n",
        "file_id = '1lJYTmX_PUyUVDSWvAiFkmoEJWZNA3msH'\n",
        "downloaded = drive.CreateFile({'id': file_id})\n",
        "downloaded.GetContentFile('extractedData.zip')"
      ],
      "execution_count": 0,
      "outputs": []
    },
    {
      "cell_type": "code",
      "metadata": {
        "id": "cPdsHUCbyd9M",
        "colab_type": "code",
        "colab": {}
      },
      "source": [
        "!unzip extractedData.zip"
      ],
      "execution_count": 0,
      "outputs": []
    },
    {
      "cell_type": "code",
      "metadata": {
        "id": "pjI4HFkCyl8W",
        "colab_type": "code",
        "outputId": "f4b1b187-2af6-4eb4-ace1-cbe87cb75109",
        "colab": {
          "base_uri": "https://localhost:8080/",
          "height": 35
        }
      },
      "source": [
        "import os\n",
        "\n",
        "path = os.getcwd()  \n",
        "print (\"The current working directory is {}\" .format(path))"
      ],
      "execution_count": 4,
      "outputs": [
        {
          "output_type": "stream",
          "text": [
            "The current working directory is /content\n"
          ],
          "name": "stdout"
        }
      ]
    },
    {
      "cell_type": "code",
      "metadata": {
        "id": "PslwjnLDyyGE",
        "colab_type": "code",
        "colab": {}
      },
      "source": [
        "classes = [\"Email\",\"Letter\",\"Memo\"]; \n",
        "dataFolders = [\"train\",\"test\",\"val\"];"
      ],
      "execution_count": 0,
      "outputs": []
    },
    {
      "cell_type": "code",
      "metadata": {
        "id": "re0QpwBC0-Ij",
        "colab_type": "code",
        "colab": {}
      },
      "source": [
        "import shutil\n",
        "import os\n",
        "import random\n",
        "from pathlib import Path\n",
        "try:\n",
        "    from PIL import Image\n",
        "except ImportError:\n",
        "    import Image"
      ],
      "execution_count": 0,
      "outputs": []
    },
    {
      "cell_type": "code",
      "metadata": {
        "id": "0xR8WOyfz9zR",
        "colab_type": "code",
        "colab": {
          "base_uri": "https://localhost:8080/",
          "height": 35
        },
        "outputId": "687021ca-6cd8-4d6a-c965-7e8e34008379"
      },
      "source": [
        "import pandas as pd\n",
        "import numpy as np\n",
        "import pickle\n",
        "from keras.preprocessing.text import Tokenizer\n",
        "from keras.models import Sequential\n",
        "from keras.layers import Activation, Dense, Dropout\n",
        "from sklearn.preprocessing import LabelBinarizer\n",
        "import sklearn.datasets as skds\n",
        "from pathlib import Path"
      ],
      "execution_count": 7,
      "outputs": [
        {
          "output_type": "stream",
          "text": [
            "Using TensorFlow backend.\n"
          ],
          "name": "stderr"
        }
      ]
    },
    {
      "cell_type": "code",
      "metadata": {
        "id": "D9ZoTHh8zGQV",
        "colab_type": "code",
        "outputId": "a4214614-c5ef-450b-84bc-c9fd6e39fc49",
        "colab": {
          "base_uri": "https://localhost:8080/",
          "height": 107
        }
      },
      "source": [
        "# For reproducibility\n",
        "np.random.seed(1237)\n",
        " \n",
        "# train file directory\n",
        "path_train = os.path.join(path, \"extractedData\", \"train\")\n",
        " \n",
        "files_train = skds.load_files(path_train,load_content=False)\n",
        " \n",
        "train_label_index = files_train.target\n",
        "train_label_names = files_train.target_names\n",
        "train_labelled_files = files_train.filenames\n",
        "\n",
        " \n",
        "train_labelled_text = []\n",
        "\n",
        "# Read and add data from file to a list\n",
        "i=0\n",
        "\n",
        "for file in train_labelled_files:\n",
        "  with open(file, 'r') as f:\n",
        "    text = f.read() \n",
        "    train_labelled_text.append(text)\n",
        "  i += 1\n",
        "    \n",
        "print(len(train_label_index))\n",
        "print(train_label_index[:10])\n",
        "\n",
        "print(train_label_names)\n",
        "print(train_labelled_text[:10])\n"
      ],
      "execution_count": 0,
      "outputs": [
        {
          "output_type": "stream",
          "text": [
            "1249\n",
            "[1 2 0 2 0 2 0 0 2 2]\n",
            "['Email', 'Letter', 'Memo']\n",
            "[\"@\\n\\n \\n\\n\\xc2\\xbb.DEC-04-97 THU 11:17 AM NB BULK PACKAGING FAX NO. 7704293533 P, 05/08\\n\\nUnited States Food Safety Washington, 0.C.\\nDepartment of and Inspection 20250\\nAgriculture Service\\n\\nEgg Products Inspection Division\\nJune 14, 1996\\n\\nMr. Gary Brown\\nMacMillan Bloedel Bulk Packaging\\nDivision of MacMillan Bloedel of America, Inc.\\n\\n1811 West Oak Parkway\\nMarietta, Georgia 30062\\n\\nDear Mr, Brown:\\n\\nThis is in response to your June 4 letter requesting Department of Agriculmre (USDA)\\napproval of the polypropylene Tre Blue Ball Valve, manufactured by BLDL, Inc, Totowa,\\nNew Jersey, for use in plants operating under the federal egg products inspection program.\\nYou propose to use the apparatus as an outlet valve for attachment to your firm's single-use\\ncorrugated fiber IBC portable container approved for use in official egg products plants,\\nEnclosed with your letter were specifications and drawings describing the construction of the\\nBLDL ball valve,\\n\\nBased on the information and drawing submitted and your written certification that the ball\\nvalve is fabricated of materials that comply with Federal Food and Drug Administration\\nregulations, Title 21 CFR 177.1520, we are approving the polypropylene BLDL True Blue\\nValve as a component outlet valve on your firm's IBC corrugated fiber container. This\\napproval for use of the polypropylene valve in official egg products plants is subject to the\\nfollowing provisions:,\\n\\n1. The ball valve and stainless steel bag-puncture apparatus are completely\\ndisassembled after each use for cleaning and inspection.\\n\\n2. Evidence of scoring or damage to the product contact surfaces of the ball valve\\naffecting cleanabillty will result in termination of approval for use of an individual valve\\nassembly, ,\\n\\n3. As stated in previous discussions, corrugated fiber totes are not approved for\\nstorage of liquid egg products in official egg products. Therefore, upon installation of the\\nvalve on the container, the contents must be removed on a continuous basis until the container\\n\\nis empty.\\n\\nFailure to comply with the above provisions will result in termination of this approval.\\nIf you have any additional questions, please contact this office.\\nSincerely,\\n\\n\\xe2\\x80\\x9cEge A tnaakgy\\n\\nRoger L. Glasshoff\\nNational Supervisor, Plant Operations\\n\\nPME FOR 2OI0- 8 0 EN? BQUAL CPPCATUNITY IN EMPLOYMENT AND SESVICES\\n\\nPSLE SLLTS\", 'Ts oe were eo rrr * Po Mi \"\\n/\\n\\xe2\\x84\\xa2 x a \\xe2\\x80\\x98 a\\nTE ST a aE cer NERO eer gene nelnmenmUERUsE ernie Lees\\n-\\xe2\\x84\\xa2 o~\\n. _\\n1\\nMEMORANDUM\\nTO: MR. E. PEPPLES\\n- FROM: L, A, PIZER\\nDATE: October 2, 1974\\nSUBJECT: VICEROY\\nCy Attached for your review are the following advertising materials;\\nyet\\xe2\\x80\\x9d v-NW-74-1 \"Driver - 2 Pack\" Jewish & Motor Trade _ Stat\\n\\xe2\\x80\\x9d Proof\\nae > Proef\\nMay we have your comments concerning the above?\\n. L. A. P.\\nye ~~\\n; biped\\n\\xe2\\x80\\x98+\\njo\\no A \\xe2\\x80\\x98\\nt\\n\\na\\n\\nerm se UN eee\\ns@3MAM-THIS NOTICE. IT 1$:DUE.TO THE Vn nore) 7\\nQUALITY OF THE DOCUMENT BEING FILMED.', '\\xe2\\x80\\x94 Original Message-----\\n\\nFrom: Dawson, Robert G. [mailto:robert.g.dawson@wawa.com]\\nSent: Monday, June 19, 2000 5:22 PM\\n\\nTo: \\'Nellenbach, Jack\\xe2\\x80\\x99\\n\\nSubject: FW: Pledge 2000 \"We Card\" Meetings in Delaware\\n\\nJack, FYI.\\n\\nBob\\n\\nC8P878T E807', ': Lorillard\\n\\nMEMORANDUM\\nJuly 27, 1982\\nTO: Messrs. C. H. Judge\\nJ. R. Ave\\nFROM: T. H. Mau\\n\\nSUBJECT: Kent Family Advertising Recommendation\\n\\nThe attached memoranda outlines the salient reasons for\\nrecommending Foote, Cone & Belding\\'s \"Locker Room\"\\ncampaign for Kent family.\\n\\nThis is a unanimous decision among the Brand Group\\ninvolved and myself,\\n\\n \\n\\n/jf\\n\\nce: M. H. Burke\\nG. R. Telford\\nE. M. Kiernan\\n\\nS2z6LOTVO', 'oo Original Message-----\\n\\nFrom: Arce, Miguel\\n\\nSent: Monday, November 29, 1999 12:37 PM\\nTo: Bayliss, Elissa L.\\n\\nCe: Murillo, Joe; Garcia, Elisa\\n\\nSubject: MIAMI GRAND PRIX RACING SUBJECTS\\nImportance: High\\n\\nElissa:\\n\\nAs per your instructions of this morning attached please find samples of what was done with Indy transparencies\\nconcerning last years Miami Grand Prix promotion in Latin America. As described to you on my note of the 23rd, we would\\nlike to use new photos for posters, banners, counter displays and print (in Latin America only; Mexico, Central America,\\n\\nColombia, Ecuador and the Dominican Republic). Please reply as soon as possible as this is a time sensitive issue for us.\\nThank you for your help and support.\\n\\nBest regards,\\n\\nMiguel\\n\\nV0Z890L0202', 'Ww.\\n\\n3 T.\\n\\nWaggaman\\n\\nSmith\\n\\nMEMORANDUM\\nOctober 27,\\n\\n1992\\n\\nThis memo confirms the selection of Milwaukee, WI and\\nHartford, CT. as. True Micro-Lights test markets.\\n\\nThe Marketing, Sales, MPID and Media Departments have\\n\\napproved, these: markets. as suitable for True Micro-Lights\\n\\ntesting.\\n\\nMilwaukee will test the acetate filter product that. has\\n\\nalready been developed.\\nthe. Second Quarter,\\n\\nsg The \\xe2\\x80\\x94 the Hartford test gam on\\n\\nthe\\n\\nThe Milwaukee test. will begin in\\n1993. .\\n\\n \\n\\nAttached are results showing how Milwaukee and Hartford\\n\\nplace. on key measures affecting a. True Micro-Lights. test..\\n\\nIf you have any questions and/or comments please feel free\\n\\nto call.\\n\\n/kw\\n\\nAttachment\\n\\ncc:\\n\\ns.\\n\\nAugustyn\\nBenson\\nGiacoio\\nGoldstein\\nMcFadden\\nMcGlynn\\nMolloy\\nNicolaisen\\nPasheluk\\nSmith\\nTatulli\\nTelford\\n\\nAe\\n\\nSE6999z0\\n\\n \\n\\nog', \"-----Original Message----- _\\n\\nFrom: Bartlett, Dede\\n\\nSent: Tuesday, March 21, 2000 9:17 AM\\nTo: Logue, Mayada\\n\\nGc: Wallace, Karen\\n\\nSubject: RE: Women\\xe2\\x80\\x99s Sport's foundation\\n\\nyes...ifit's an early tunch...! have to leave for Concord, New Hampshire afterwards, Dede\\n\\nV96S8IEE8OT\", '-~---Original Message-----\\n\\nFrom: Suydam, Loraine\\n\\nSent: Thursday, January 18, 2001 4:05 PM\\nTo: Cohen, Denise A.: Kirschbaum, Marti N\\nSubject: Spectacular Stickers\\n\\nDeane Gross @ 3476 want to sheets of the spectacular stickers. It is for \"In the Loop\".\\n\\nLoraine Suydam\\n\\nYouth Smoking Prevention\\n(917)663-2252\\n(917)663-0449 Fax\\n\\n79\\n\\n96799862802', ':\\nAS 4\\n\\nKLevllard\\n\\n7 ee - MEMORANDUM\\nmo July 28, 1977\\n> Mr. R.-E. Smith\\nFROM: J. J. Giordano\\nRE: NEWPORT. BRAND -- Lights Expansion Market Plan\\n\\nAttached is a copy of subject plan for your information and\\ncomment. The overview includes all marketing aspects within the\\n\\n\\xe2\\x80\\x98currently established budget parameters. Should the brand re- -\\n\\nceive the previously requested additional dollar support, Lights\\nadvertising and promotion, as well as parent NEWPORT advertising\\nwould be increased. ,\\n\\nPlease advise should you have any questions or comments.\\n\\nJIG:hk - Attachment -\\n\\ncc: Messrs. Ave\\nBass - - - -\\nCunningham \\xe2\\x80\\x94 - -\\nFlinn\\nGiacoio\\n\\n- Gordon _\\nKeller\\nLawless\\nMastandrea\\nMueller \\xe2\\x80\\x94\\nToti\\n\\n  \\n \\n \\n \\n \\n \\n\\nRicci WGC (2)\\nHastings MCA', \"From:\\n\\nSubjects. .\\n\\nTotal\\nLBS.\\n\\n \\n\\n228,728\\n230,360)\\n221,625\\n209 ,845\\n205,646\\n217,063\\n84:,283\\n91,884\\n85.,900\\n86,412\\n72',722\\n84 ,224\\n\\n \\n\\n- Mr. W. G. Longest\\n\\nR. &. Grizzel\\n\\nChemical Composition of Stemmery, Samples, 19 aqCrop\\n~ BURLEY TOBACCO ( LIFT\\n\\nSample Identification\\n\\nDate\\n\\n2-19-81\\n2-19-81\\n2-20-81\\n2-20-81\\n2-23-81\\n2-23-81\\n2-19-81\\n2-19-81\\n2-20-81\\n2-20-81\\n2-23-81\\n\\n(2-23-81\\n\\nResults reported on 12% moisture basis.\\n\\nREG/bpp\\nDr. P. A. Eichorn\\n\\ncc:\\n\\nGrade\\n\\n \\n\\nB-3X\\nB-3X\\nB-3X\\nB-3X\\nB-3X\\nB-3X\\n\\nMKST Stem\\nMKST Stem\\nMKST Stem\\nMKST Stem\\nMKST Stem\\nMKST Stem\\n\\nMr. M. J. Buss\\n\\nMr.\\n\\nGellatly\\n\\nPHILIP MORRIS U. S. A.\\nINTER-OFFICE CORRESPONDENCE\\n\\nRICHMOND, VIRGINIA\\n\\n)\\n\\n% Total\\nAlkaloids. Nitrogen\\n\\n2.98)\\n\\n2.96\\n3.110\\n\\n3.01\\n\\n2.92\\n3.10\\n0.66\\n0.66\\n0.64\\n0.66\\n0.68\\n0.65\\n\\nAnalytical! Research File\\n\\n \\n\\nMarch 6, 1981\\n\\nDate:\\n\\n% Total\\nTVB\\n\\n. . .\\n. .\\n\\n+\\n\\noo 00 0 2&2\\n\\n7. 8 # #\\xc2\\xa2 8 - \\xc2\\xa9\\ne\\nvw ON ON NW ONS WS\\n\\nwow WwW wD WwW Ww WwW wD WwW WwW WwW\\n\\n    \\n  \\n\\n \\n\\n0.68\\n0.66\\n0.62\\n0.59\\n0.64\\n0.74\\n1.95\\n1.72\\n2.11\\n11.96\\n2.08 |\\n1.95 |\"]\n"
          ],
          "name": "stdout"
        }
      ]
    },
    {
      "cell_type": "code",
      "metadata": {
        "id": "7Q-xhZXI0lIp",
        "colab_type": "code",
        "colab": {}
      },
      "source": [
        "NERTestFilePath = '/content/extractedData/test/Email/2067227128.txt'\n",
        "with open(NERTestFilePath, 'r') as f:\n",
        "    sentence = f.read() \n",
        "\n",
        "print(sentence)"
      ],
      "execution_count": 0,
      "outputs": []
    },
    {
      "cell_type": "markdown",
      "metadata": {
        "id": "OWBsxyJWFRaw",
        "colab_type": "text"
      },
      "source": [
        "##Named entity recognition on a file\n"
      ]
    },
    {
      "cell_type": "code",
      "metadata": {
        "id": "TTfGc6B7Kl1T",
        "colab_type": "code",
        "colab": {}
      },
      "source": [
        "!pip install -U spacy"
      ],
      "execution_count": 0,
      "outputs": []
    },
    {
      "cell_type": "code",
      "metadata": {
        "id": "4cNRFsxYMl_0",
        "colab_type": "code",
        "colab": {}
      },
      "source": [
        "!python -m spacy download en_core_web_sm"
      ],
      "execution_count": 0,
      "outputs": []
    },
    {
      "cell_type": "code",
      "metadata": {
        "id": "MnKxv78CLLNZ",
        "colab_type": "code",
        "colab": {}
      },
      "source": [
        "import spacy\n",
        "from spacy import displacy\n",
        "from collections import Counter\n",
        "import en_core_web_sm\n",
        "nlp = en_core_web_sm.load()\n",
        "from pprint import pprint"
      ],
      "execution_count": 0,
      "outputs": []
    },
    {
      "cell_type": "code",
      "metadata": {
        "id": "1zWLT1YVQ-YS",
        "colab_type": "code",
        "colab": {}
      },
      "source": [
        "unicodeString = unicode(sentence, \"utf-8\")"
      ],
      "execution_count": 0,
      "outputs": []
    },
    {
      "cell_type": "code",
      "metadata": {
        "id": "x2S0deAMMP26",
        "colab_type": "code",
        "colab": {
          "base_uri": "https://localhost:8080/",
          "height": 277
        },
        "outputId": "ac21a18b-aea7-44d2-b590-92d8571fa788"
      },
      "source": [
        "doc = nlp(unicodeString)\n",
        "##pprint([(X.text, X.label_) for X in doc.ents])\n",
        "pprint([(X.text) for X in doc.ents])"
      ],
      "execution_count": 89,
      "outputs": [
        {
          "output_type": "stream",
          "text": [
            "[u'Roger A.\\n\\n',\n",
            " u'Walk',\n",
            " u'Roger A.\\n\\nSent',\n",
            " u'Monday, July 22, 2002',\n",
            " u'12:27 PM',\n",
            " u'Hans',\n",
            " u'Koller',\n",
            " u'Debbie',\n",
            " u'SCoR',\n",
            " u'09/02',\n",
            " u'Debbie',\n",
            " u'September',\n",
            " u'Mike Pfeil',\n",
            " u'GRO',\n",
            " u'Roger\\n\\n8Z122zz90z']\n"
          ],
          "name": "stdout"
        }
      ]
    },
    {
      "cell_type": "code",
      "metadata": {
        "id": "etEDL91fPbLQ",
        "colab_type": "code",
        "colab": {}
      },
      "source": [
        ""
      ],
      "execution_count": 0,
      "outputs": []
    }
  ]
}