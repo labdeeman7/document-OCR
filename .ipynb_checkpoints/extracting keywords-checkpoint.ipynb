{
 "cells": [
  {
   "cell_type": "markdown",
   "metadata": {},
   "source": [
    "# Extracting keywords from text"
   ]
  },
  {
   "cell_type": "markdown",
   "metadata": {},
   "source": [
    "To retrieve the text back from a database, things like the name of the student or a name of a subject or the year are important clues to be used, so we would use NLTK to exract these keywords from text already gotten from the images."
   ]
  },
  {
   "cell_type": "code",
   "execution_count": 4,
   "metadata": {},
   "outputs": [],
   "source": [
    "import pandas as pd\n",
    "from pathlib import Path"
   ]
  },
  {
   "cell_type": "code",
   "execution_count": 5,
   "metadata": {},
   "outputs": [
    {
     "data": {
      "text/html": [
       "<div>\n",
       "<style scoped>\n",
       "    .dataframe tbody tr th:only-of-type {\n",
       "        vertical-align: middle;\n",
       "    }\n",
       "\n",
       "    .dataframe tbody tr th {\n",
       "        vertical-align: top;\n",
       "    }\n",
       "\n",
       "    .dataframe thead th {\n",
       "        text-align: right;\n",
       "    }\n",
       "</style>\n",
       "<table border=\"1\" class=\"dataframe\">\n",
       "  <thead>\n",
       "    <tr style=\"text-align: right;\">\n",
       "      <th></th>\n",
       "      <th>file_name</th>\n",
       "      <th>extracted_information</th>\n",
       "      <th>class_name</th>\n",
       "    </tr>\n",
       "  </thead>\n",
       "  <tbody>\n",
       "    <tr>\n",
       "      <th>0</th>\n",
       "      <td>ID (1).txt</td>\n",
       "      <td>CHAPEL SCIENCE\\n\\nHIGH SCHOOL\\n\\n \\n\\nALABI TOSIN</td>\n",
       "      <td>school_id</td>\n",
       "    </tr>\n",
       "    <tr>\n",
       "      <th>1</th>\n",
       "      <td>ID (10).txt</td>\n",
       "      <td>CHAPEL SCIENCE\\n\\nHIGH SCHOOL\\n\\n \\n\\nPETER JOHN</td>\n",
       "      <td>school_id</td>\n",
       "    </tr>\n",
       "    <tr>\n",
       "      <th>2</th>\n",
       "      <td>ID (3).txt</td>\n",
       "      <td>CHAPEL SCIENCE\\n\\nHIGH SCHOOL\\n\\n \\n\\nDAVID INO</td>\n",
       "      <td>school_id</td>\n",
       "    </tr>\n",
       "    <tr>\n",
       "      <th>3</th>\n",
       "      <td>ID (4).txt</td>\n",
       "      <td>CHAPEL SCIENCE\\n\\nHIGH SCHOOL\\n\\n \\n\\nEU JAMES</td>\n",
       "      <td>school_id</td>\n",
       "    </tr>\n",
       "    <tr>\n",
       "      <th>4</th>\n",
       "      <td>ID (5).txt</td>\n",
       "      <td>CHAPEL SCIENCE\\n\\nHIGH SCHOOL\\n\\n \\n\\npeace BA...</td>\n",
       "      <td>school_id</td>\n",
       "    </tr>\n",
       "    <tr>\n",
       "      <th>5</th>\n",
       "      <td>ID (7).txt</td>\n",
       "      <td>CHAPEL SCIENCE\\n\\nHIGH SCHOOL\\n\\n \\n\\nVICTOR O...</td>\n",
       "      <td>school_id</td>\n",
       "    </tr>\n",
       "    <tr>\n",
       "      <th>6</th>\n",
       "      <td>ID (8).txt</td>\n",
       "      <td>CHAPEL SCIENCE\\n\\nHIGH SCHOOL\\n\\n \\n\\neee CHID...</td>\n",
       "      <td>school_id</td>\n",
       "    </tr>\n",
       "    <tr>\n",
       "      <th>7</th>\n",
       "      <td>french_participation (5).txt</td>\n",
       "      <td>Chapel Science High School awards\\n\\nfor parti...</td>\n",
       "      <td>french_club_award</td>\n",
       "    </tr>\n",
       "    <tr>\n",
       "      <th>8</th>\n",
       "      <td>french_participation (6).txt</td>\n",
       "      <td>Chapel Science High School awards\\n\\nfor parti...</td>\n",
       "      <td>french_club_award</td>\n",
       "    </tr>\n",
       "    <tr>\n",
       "      <th>9</th>\n",
       "      <td>french_participation (7).txt</td>\n",
       "      <td>Chapel Science High School awards\\n\\nfor parti...</td>\n",
       "      <td>french_club_award</td>\n",
       "    </tr>\n",
       "    <tr>\n",
       "      <th>10</th>\n",
       "      <td>french_participation (8).txt</td>\n",
       "      <td>Chapel Science High School awards\\n\\nfor parti...</td>\n",
       "      <td>french_club_award</td>\n",
       "    </tr>\n",
       "    <tr>\n",
       "      <th>11</th>\n",
       "      <td>jets_participation (3).txt</td>\n",
       "      <td>THIS CERTIFIES THAT\\n\\nParticipated in the act...</td>\n",
       "      <td>jet_club_award</td>\n",
       "    </tr>\n",
       "    <tr>\n",
       "      <th>12</th>\n",
       "      <td>jets_participation (5).txt</td>\n",
       "      <td>THIS CERTIFIES THAT\\n\\nParticipated in the act...</td>\n",
       "      <td>jet_club_award</td>\n",
       "    </tr>\n",
       "    <tr>\n",
       "      <th>13</th>\n",
       "      <td>jets_participation (8).txt</td>\n",
       "      <td>THIS CERTIFIES THAT\\n\\nParticipated in the act...</td>\n",
       "      <td>jet_club_award</td>\n",
       "    </tr>\n",
       "    <tr>\n",
       "      <th>14</th>\n",
       "      <td>jets_participation.txt</td>\n",
       "      <td>THIS CERTIFIES THAT\\n\\nParticipated in the act...</td>\n",
       "      <td>jet_club_award</td>\n",
       "    </tr>\n",
       "    <tr>\n",
       "      <th>15</th>\n",
       "      <td>result (1).txt</td>\n",
       "      <td>SEMESTER RESULT\\n\\n \\n\\n \\n\\nStudent Name: Tol...</td>\n",
       "      <td>report_card</td>\n",
       "    </tr>\n",
       "    <tr>\n",
       "      <th>16</th>\n",
       "      <td>result (12).txt</td>\n",
       "      <td>SEMESTER RESULT\\n\\n \\n\\n \\n\\nStudent Name: Moh...</td>\n",
       "      <td>report_card</td>\n",
       "    </tr>\n",
       "    <tr>\n",
       "      <th>17</th>\n",
       "      <td>result (14).txt</td>\n",
       "      <td>SEMESTER RESULT\\n\\n \\n\\n \\n\\nStudent Name: Aze...</td>\n",
       "      <td>report_card</td>\n",
       "    </tr>\n",
       "    <tr>\n",
       "      <th>18</th>\n",
       "      <td>result (4).txt</td>\n",
       "      <td>SEMESTER RESULT\\n\\n \\n\\n \\n\\nStudent Name: Tom...</td>\n",
       "      <td>report_card</td>\n",
       "    </tr>\n",
       "    <tr>\n",
       "      <th>19</th>\n",
       "      <td>result (5).txt</td>\n",
       "      <td>SEMESTER RESULT\\n\\n \\n\\n \\n\\nStudent Name: Gra...</td>\n",
       "      <td>report_card</td>\n",
       "    </tr>\n",
       "    <tr>\n",
       "      <th>20</th>\n",
       "      <td>result (6).txt</td>\n",
       "      <td>SEMESTER RESULT\\n\\n \\n\\n \\n\\nStudent Name: Bak...</td>\n",
       "      <td>report_card</td>\n",
       "    </tr>\n",
       "    <tr>\n",
       "      <th>21</th>\n",
       "      <td>result (8).txt</td>\n",
       "      <td>SEMESTER RESULT\\n\\n \\n\\n \\n\\nStudent Name: Ama...</td>\n",
       "      <td>report_card</td>\n",
       "    </tr>\n",
       "  </tbody>\n",
       "</table>\n",
       "</div>"
      ],
      "text/plain": [
       "                       file_name  \\\n",
       "0                     ID (1).txt   \n",
       "1                    ID (10).txt   \n",
       "2                     ID (3).txt   \n",
       "3                     ID (4).txt   \n",
       "4                     ID (5).txt   \n",
       "5                     ID (7).txt   \n",
       "6                     ID (8).txt   \n",
       "7   french_participation (5).txt   \n",
       "8   french_participation (6).txt   \n",
       "9   french_participation (7).txt   \n",
       "10  french_participation (8).txt   \n",
       "11    jets_participation (3).txt   \n",
       "12    jets_participation (5).txt   \n",
       "13    jets_participation (8).txt   \n",
       "14        jets_participation.txt   \n",
       "15                result (1).txt   \n",
       "16               result (12).txt   \n",
       "17               result (14).txt   \n",
       "18                result (4).txt   \n",
       "19                result (5).txt   \n",
       "20                result (6).txt   \n",
       "21                result (8).txt   \n",
       "\n",
       "                                extracted_information         class_name  \n",
       "0   CHAPEL SCIENCE\\n\\nHIGH SCHOOL\\n\\n \\n\\nALABI TOSIN          school_id  \n",
       "1    CHAPEL SCIENCE\\n\\nHIGH SCHOOL\\n\\n \\n\\nPETER JOHN          school_id  \n",
       "2     CHAPEL SCIENCE\\n\\nHIGH SCHOOL\\n\\n \\n\\nDAVID INO          school_id  \n",
       "3      CHAPEL SCIENCE\\n\\nHIGH SCHOOL\\n\\n \\n\\nEU JAMES          school_id  \n",
       "4   CHAPEL SCIENCE\\n\\nHIGH SCHOOL\\n\\n \\n\\npeace BA...          school_id  \n",
       "5   CHAPEL SCIENCE\\n\\nHIGH SCHOOL\\n\\n \\n\\nVICTOR O...          school_id  \n",
       "6   CHAPEL SCIENCE\\n\\nHIGH SCHOOL\\n\\n \\n\\neee CHID...          school_id  \n",
       "7   Chapel Science High School awards\\n\\nfor parti...  french_club_award  \n",
       "8   Chapel Science High School awards\\n\\nfor parti...  french_club_award  \n",
       "9   Chapel Science High School awards\\n\\nfor parti...  french_club_award  \n",
       "10  Chapel Science High School awards\\n\\nfor parti...  french_club_award  \n",
       "11  THIS CERTIFIES THAT\\n\\nParticipated in the act...     jet_club_award  \n",
       "12  THIS CERTIFIES THAT\\n\\nParticipated in the act...     jet_club_award  \n",
       "13  THIS CERTIFIES THAT\\n\\nParticipated in the act...     jet_club_award  \n",
       "14  THIS CERTIFIES THAT\\n\\nParticipated in the act...     jet_club_award  \n",
       "15  SEMESTER RESULT\\n\\n \\n\\n \\n\\nStudent Name: Tol...        report_card  \n",
       "16  SEMESTER RESULT\\n\\n \\n\\n \\n\\nStudent Name: Moh...        report_card  \n",
       "17  SEMESTER RESULT\\n\\n \\n\\n \\n\\nStudent Name: Aze...        report_card  \n",
       "18  SEMESTER RESULT\\n\\n \\n\\n \\n\\nStudent Name: Tom...        report_card  \n",
       "19  SEMESTER RESULT\\n\\n \\n\\n \\n\\nStudent Name: Gra...        report_card  \n",
       "20  SEMESTER RESULT\\n\\n \\n\\n \\n\\nStudent Name: Bak...        report_card  \n",
       "21  SEMESTER RESULT\\n\\n \\n\\n \\n\\nStudent Name: Ama...        report_card  "
      ]
     },
     "execution_count": 5,
     "metadata": {},
     "output_type": "execute_result"
    }
   ],
   "source": [
    "extractedValData = pd.read_csv(\"val_data.csv\")\n",
    "extractedValData"
   ]
  },
  {
   "cell_type": "code",
   "execution_count": 6,
   "metadata": {},
   "outputs": [
    {
     "data": {
      "text/plain": [
       "'CHAPEL SCIENCE\\n\\nHIGH SCHOOL\\n\\n \\n\\nALABI TOSIN'"
      ]
     },
     "execution_count": 6,
     "metadata": {},
     "output_type": "execute_result"
    }
   ],
   "source": [
    "validation_sentence = extractedValData.loc[ 0 , 'extracted_information']\n",
    "validation_sentence"
   ]
  },
  {
   "cell_type": "code",
   "execution_count": 7,
   "metadata": {},
   "outputs": [],
   "source": [
    "import spacy\n",
    "from spacy import displacy\n",
    "from collections import Counter\n",
    "import en_core_web_sm\n",
    "nlp = en_core_web_sm.load()\n",
    "from pprint import pprint"
   ]
  },
  {
   "cell_type": "code",
   "execution_count": 8,
   "metadata": {},
   "outputs": [
    {
     "name": "stdout",
     "output_type": "stream",
     "text": [
      "['ALABI']\n"
     ]
    }
   ],
   "source": [
    "doc = nlp(validation_sentence)\n",
    "##pprint([(X.text, X.label_) for X in doc.ents])\n",
    "pprint([(X.text) for X in doc.ents])"
   ]
  },
  {
   "cell_type": "code",
   "execution_count": null,
   "metadata": {},
   "outputs": [],
   "source": []
  }
 ],
 "metadata": {
  "kernelspec": {
   "display_name": "Python 3",
   "language": "python",
   "name": "python3"
  },
  "language_info": {
   "codemirror_mode": {
    "name": "ipython",
    "version": 3
   },
   "file_extension": ".py",
   "mimetype": "text/x-python",
   "name": "python",
   "nbconvert_exporter": "python",
   "pygments_lexer": "ipython3",
   "version": "3.7.3"
  }
 },
 "nbformat": 4,
 "nbformat_minor": 4
}
