{
 "cells": [
  {
   "cell_type": "markdown",
   "metadata": {
    "colab_type": "text",
    "id": "k3BTEFBIVvIt"
   },
   "source": [
    "# 1 Extract text from images "
   ]
  },
  {
   "cell_type": "markdown",
   "metadata": {},
   "source": [
    "## 1.1 Pytesseract Installation and use"
   ]
  },
  {
   "cell_type": "markdown",
   "metadata": {},
   "source": [
    "Tesseract is an OCR engine. Pytesseract is a python wrapper for this OCR engine. To use pytesseract, you must first have the tesseract engine\n",
    "installed on your system(ensure the path to the engine is in your PATH!!!!), then use PIP or Conda to install the python wrapper.\n",
    "Please follow instructions at https://pypi.org/project/pytesseract/ and https://github.com/tesseract-ocr/tesseract"
   ]
  },
  {
   "cell_type": "code",
   "execution_count": 4,
   "metadata": {
    "colab": {},
    "colab_type": "code",
    "id": "dA6L8EIg4Etk"
   },
   "outputs": [],
   "source": [
    "import pytesseract\n",
    "import shutil\n",
    "import os\n",
    "import pandas as pd\n",
    "import random\n",
    "try:\n",
    "    from PIL import Image\n",
    "except ImportError:\n",
    "    import Image"
   ]
  },
  {
   "cell_type": "code",
   "execution_count": 5,
   "metadata": {
    "colab": {
     "base_uri": "https://localhost:8080/",
     "height": 35
    },
    "colab_type": "code",
    "id": "RJCBRgZ65G0C",
    "outputId": "600df1ad-3e9a-4a14-d69c-a404c9642758"
   },
   "outputs": [
    {
     "name": "stdout",
     "output_type": "stream",
     "text": [
      " Volume in drive C is Windows\n",
      " Volume Serial Number is C2AA-54D0\n",
      "\n",
      " Directory of C:\\Users\\Alabi Oluwatosin\\Documents\\Projects\\document-ocr\n",
      "\n",
      "08/04/2019  12:20 PM    <DIR>          .\n",
      "08/04/2019  12:20 PM    <DIR>          ..\n",
      "08/02/2019  05:57 PM                37 .gitignore\n",
      "08/02/2019  07:46 PM    <DIR>          .idea\n",
      "08/03/2019  10:03 AM    <DIR>          .ipynb_checkpoints\n",
      "08/03/2019  07:31 PM            23,863 classification.ipynb\n",
      "08/04/2019  12:14 PM    <DIR>          data\n",
      "08/04/2019  12:20 PM            19,716 Information extraction.ipynb\n",
      "08/02/2019  05:57 PM             2,482 README.md\n",
      "               4 File(s)         46,098 bytes\n",
      "               5 Dir(s)  1,755,862,265,856 bytes free\n"
     ]
    }
   ],
   "source": [
    "ls"
   ]
  },
  {
   "cell_type": "code",
   "execution_count": 6,
   "metadata": {
    "colab": {
     "base_uri": "https://localhost:8080/",
     "height": 35
    },
    "colab_type": "code",
    "id": "8Xyjz9i3dBr6",
    "outputId": "f5e25792-e6cc-435c-addf-a3416f929cee"
   },
   "outputs": [
    {
     "name": "stdout",
     "output_type": "stream",
     "text": [
      "The current working directory is C:\\Users\\Alabi Oluwatosin\\Documents\\Projects\\document-ocr\n"
     ]
    }
   ],
   "source": [
    "path = os.getcwd()  \n",
    "print (\"The current working directory is {}\" .format(path))"
   ]
  },
  {
   "cell_type": "markdown",
   "metadata": {},
   "source": [
    "## 1.2 Quick Explanation\n",
    "So, the test-dataset I made is for a ficticious school called chapel Science High school. The school has data for some of their students which they want to store electronically for quick retrieval. they have their school ID, a french club participation certificate, a Jet club certificate as well as their report card.\n",
    "\n",
    "The developed system needs to be able to automatically classify images uploaded to one of these classes as well as store the information in this file for easy retrieval in case a student comes 10 years in the future for it"
   ]
  },
  {
   "cell_type": "markdown",
   "metadata": {
    "colab_type": "text",
    "id": "bGYM-OH6WKqn"
   },
   "source": [
    "The folder structure for my training is a \"data\" folder containing three folders called train, test and val. Each of these folders contains our four classes: \"school_id\", \"french_club_award\", \"jet_club_award\", \"report_card\". These classes contain the various images to be used in this project"
   ]
  },
  {
   "cell_type": "code",
   "execution_count": 10,
   "metadata": {
    "colab": {},
    "colab_type": "code",
    "id": "zYrNGn8xmq9g"
   },
   "outputs": [],
   "source": [
    "classes = [\"school_id\", \"french_club_award\", \"jet_club_award\", \"report_card\"]; \n",
    "dataFolders = [\"train\",\"test\",\"val\"];"
   ]
  },
  {
   "cell_type": "code",
   "execution_count": 11,
   "metadata": {
    "colab": {
     "base_uri": "https://localhost:8080/",
     "height": 35
    },
    "colab_type": "code",
    "id": "vJAOgiLKediW",
    "outputId": "4e5fd2f9-3f23-4b66-bf4d-b44e9c3615c6"
   },
   "outputs": [],
   "source": [
    "# path names for the original data, train and test data\n",
    "ImageDataDirPath = os.path.join(path, \"data\")"
   ]
  },
  {
   "cell_type": "markdown",
   "metadata": {
    "colab_type": "text",
    "id": "NuD1UyR4WpuM"
   },
   "source": [
    "## 1.3 Information extraction"
   ]
  },
  {
   "cell_type": "code",
   "execution_count": 12,
   "metadata": {
    "colab": {},
    "colab_type": "code",
    "id": "HDFRuubtr5M-"
   },
   "outputs": [],
   "source": [
    "# A function to extract information using pytesseract iamge_to string\n",
    "def extract_information(filePaths, dataFolder, className):\n",
    "    allClassExtractedData = []\n",
    "    for filePath in filePaths:\n",
    "        extractedInformation = pytesseract.image_to_string(Image.open(filePath))\n",
    "#         split by / and get the last value in array, then remove .jpg\n",
    "        fileName = filePath.split('\\\\')[-1].split('.jpg')[0] + '.txt' \n",
    "\n",
    "        #return tuple of data containing the fileName, information and class Name\n",
    "        allClassExtractedData.append((fileName,extractedInformation,className))\n",
    "    return allClassExtractedData\n",
    "  "
   ]
  },
  {
   "cell_type": "code",
   "execution_count": 13,
   "metadata": {
    "colab": {},
    "colab_type": "code",
    "id": "aoTyDiJRfUYY"
   },
   "outputs": [
    {
     "name": "stdout",
     "output_type": "stream",
     "text": [
      "C:\\Users\\Alabi Oluwatosin\\Documents\\Projects\\document-ocr\\data\\train\\school_id\n",
      "4\n",
      "C:\\Users\\Alabi Oluwatosin\\Documents\\Projects\\document-ocr\\data\\train\\french_club_award\n",
      "4\n",
      "C:\\Users\\Alabi Oluwatosin\\Documents\\Projects\\document-ocr\\data\\train\\jet_club_award\n",
      "4\n",
      "C:\\Users\\Alabi Oluwatosin\\Documents\\Projects\\document-ocr\\data\\train\\report_card\n",
      "4\n",
      "C:\\Users\\Alabi Oluwatosin\\Documents\\Projects\\document-ocr\\data\\test\\school_id\n",
      "4\n",
      "C:\\Users\\Alabi Oluwatosin\\Documents\\Projects\\document-ocr\\data\\test\\french_club_award\n",
      "4\n",
      "C:\\Users\\Alabi Oluwatosin\\Documents\\Projects\\document-ocr\\data\\test\\jet_club_award\n",
      "4\n",
      "C:\\Users\\Alabi Oluwatosin\\Documents\\Projects\\document-ocr\\data\\test\\report_card\n",
      "4\n",
      "C:\\Users\\Alabi Oluwatosin\\Documents\\Projects\\document-ocr\\data\\val\\school_id\n",
      "7\n",
      "C:\\Users\\Alabi Oluwatosin\\Documents\\Projects\\document-ocr\\data\\val\\french_club_award\n",
      "4\n",
      "C:\\Users\\Alabi Oluwatosin\\Documents\\Projects\\document-ocr\\data\\val\\jet_club_award\n",
      "4\n",
      "C:\\Users\\Alabi Oluwatosin\\Documents\\Projects\\document-ocr\\data\\val\\report_card\n",
      "7\n",
      "                        file_name  \\\n",
      "0                     ID (11).txt   \n",
      "1                      ID (2).txt   \n",
      "2                      ID (6).txt   \n",
      "3                      ID (9).txt   \n",
      "4    french_participation (1).txt   \n",
      "5   french_participation (10).txt   \n",
      "6    french_participation (3).txt   \n",
      "7        french_participation.txt   \n",
      "8      jets_participation (1).txt   \n",
      "9     jets_participation (11).txt   \n",
      "10     jets_participation (2).txt   \n",
      "11     jets_participation (7).txt   \n",
      "12                result (11).txt   \n",
      "13                 result (2).txt   \n",
      "14                 result (9).txt   \n",
      "15                     result.txt   \n",
      "\n",
      "                                extracted_information         class_name  \n",
      "0      CHAPEL SCIENCE\\n\\nHIGH SCHOOL\\n\\n \\n\\neee JADE          school_id  \n",
      "1     CHAPEL SCIENCE\\n\\nHIGH SCHOOL\\n\\n \\n\\nTOLU FOLA          school_id  \n",
      "2   CHAPEL SCIENCE\\n\\nHIGH SCHOOL\\n\\n \\n\\nPanu SIMEON          school_id  \n",
      "3   CHAPEL SCIENCE\\n\\nHIGH SCHOOL\\n\\n \\n\\nFEMI QUADRI          school_id  \n",
      "4   Chapel Science High School awards\\n\\nfor parti...  french_club_award  \n",
      "5   Chapel Science High School awards\\n\\nfor parti...  french_club_award  \n",
      "6   Chapel Science High School awards\\n\\nfor parti...  french_club_award  \n",
      "7   Chapel Science High School awards\\n\\nfor parti...  french_club_award  \n",
      "8   THIS CERTIFIES THAT\\n\\nParticipated in the act...     jet_club_award  \n",
      "9   THIS CERTIFIES THAT\\n\\nParticipated in the act...     jet_club_award  \n",
      "10  THIS CERTIFIES THAT\\n\\nParticipated in the act...     jet_club_award  \n",
      "11  THIS CERTIFIES THAT\\n\\nParticipated in the act...     jet_club_award  \n",
      "12  SEMESTER RESULT\\n\\n \\n\\n \\n\\nStudent Name: Chr...        report_card  \n",
      "13  SEMESTER RESULT\\n\\n \\n\\n \\n\\nStudent Name: Tom...        report_card  \n",
      "14  SEMESTER RESULT\\n\\n \\n\\n \\n\\nStudent Name: Fem...        report_card  \n",
      "15  SEMESTER RESULT\\n\\n \\n\\n \\n\\nStudent Name: Ala...        report_card  \n",
      "                        file_name  \\\n",
      "0                     ID (12).txt   \n",
      "1                     ID (13).txt   \n",
      "2                     ID (14).txt   \n",
      "3                          ID.txt   \n",
      "4   french_participation (11).txt   \n",
      "5    french_participation (2).txt   \n",
      "6    french_participation (4).txt   \n",
      "7    french_participation (9).txt   \n",
      "8     jets_participation (10).txt   \n",
      "9      jets_participation (4).txt   \n",
      "10     jets_participation (6).txt   \n",
      "11     jets_participation (9).txt   \n",
      "12                result (10).txt   \n",
      "13                result (13).txt   \n",
      "14                 result (3).txt   \n",
      "15                 result (7).txt   \n",
      "\n",
      "                                extracted_information         class_name  \n",
      "0    CHAPEL SCIENCE\\n\\nHIGH SCHOOL\\n\\n \\n\\nPenna SALA          school_id  \n",
      "1   CHAPEL SCIENCE\\n\\nHIGH SCHOOL\\n\\n \\n\\nYUSUF BELLO          school_id  \n",
      "2    CHAPEL SCIENCE\\n\\nHIGH SCHOOL\\n\\n \\n\\nAZEEZ BALA          school_id  \n",
      "3    CHAPEL SCIENCE\\n\\nHIGH SCHOOL\\n\\n \\n\\noa OLADEJI          school_id  \n",
      "4   Chapel Science High School awards\\n\\nfor parti...  french_club_award  \n",
      "5   Chapel Science High School awards\\n\\nfor parti...  french_club_award  \n",
      "6   Chapel Science High School awards\\n\\nfor parti...  french_club_award  \n",
      "7   Chapel Science High School awards\\n\\nfor parti...  french_club_award  \n",
      "8   THIS CERTIFIES THAT\\n\\nParticipated in the act...     jet_club_award  \n",
      "9   THIS CERTIFIES THAT\\n\\nParticipated in the act...     jet_club_award  \n",
      "10  THIS CERTIFIES THAT\\n\\nParticipated in the act...     jet_club_award  \n",
      "11  THIS CERTIFIES THAT\\n\\nParticipated in the act...     jet_club_award  \n",
      "12  SEMESTER RESULT\\n\\n \\n\\n \\n\\nStudent Name: Pet...        report_card  \n",
      "13  SEMESTER RESULT\\n\\n \\n\\n \\n\\nStudent Name: Yus...        report_card  \n",
      "14  SEMESTER RESULT\\n\\n \\n\\n \\n\\nStudent Name: Dav...        report_card  \n",
      "15  SEMESTER RESULT\\n\\n \\n\\n \\n\\nStudent Name: Vic...        report_card  \n",
      "                       file_name  \\\n",
      "0                     ID (1).txt   \n",
      "1                    ID (10).txt   \n",
      "2                     ID (3).txt   \n",
      "3                     ID (4).txt   \n",
      "4                     ID (5).txt   \n",
      "5                     ID (7).txt   \n",
      "6                     ID (8).txt   \n",
      "7   french_participation (5).txt   \n",
      "8   french_participation (6).txt   \n",
      "9   french_participation (7).txt   \n",
      "10  french_participation (8).txt   \n",
      "11    jets_participation (3).txt   \n",
      "12    jets_participation (5).txt   \n",
      "13    jets_participation (8).txt   \n",
      "14        jets_participation.txt   \n",
      "15                result (1).txt   \n",
      "16               result (12).txt   \n",
      "17               result (14).txt   \n",
      "18                result (4).txt   \n",
      "19                result (5).txt   \n",
      "20                result (6).txt   \n",
      "21                result (8).txt   \n",
      "\n",
      "                                extracted_information         class_name  \n",
      "0   CHAPEL SCIENCE\\n\\nHIGH SCHOOL\\n\\n \\n\\nALABI TOSIN          school_id  \n",
      "1    CHAPEL SCIENCE\\n\\nHIGH SCHOOL\\n\\n \\n\\nPETER JOHN          school_id  \n",
      "2     CHAPEL SCIENCE\\n\\nHIGH SCHOOL\\n\\n \\n\\nDAVID INO          school_id  \n",
      "3      CHAPEL SCIENCE\\n\\nHIGH SCHOOL\\n\\n \\n\\nEU JAMES          school_id  \n",
      "4   CHAPEL SCIENCE\\n\\nHIGH SCHOOL\\n\\n \\n\\npeace BA...          school_id  \n",
      "5   CHAPEL SCIENCE\\n\\nHIGH SCHOOL\\n\\n \\n\\nVICTOR O...          school_id  \n",
      "6   CHAPEL SCIENCE\\n\\nHIGH SCHOOL\\n\\n \\n\\neee CHID...          school_id  \n",
      "7   Chapel Science High School awards\\n\\nfor parti...  french_club_award  \n",
      "8   Chapel Science High School awards\\n\\nfor parti...  french_club_award  \n",
      "9   Chapel Science High School awards\\n\\nfor parti...  french_club_award  \n",
      "10  Chapel Science High School awards\\n\\nfor parti...  french_club_award  \n",
      "11  THIS CERTIFIES THAT\\n\\nParticipated in the act...     jet_club_award  \n",
      "12  THIS CERTIFIES THAT\\n\\nParticipated in the act...     jet_club_award  \n",
      "13  THIS CERTIFIES THAT\\n\\nParticipated in the act...     jet_club_award  \n",
      "14  THIS CERTIFIES THAT\\n\\nParticipated in the act...     jet_club_award  \n",
      "15  SEMESTER RESULT\\n\\n \\n\\n \\n\\nStudent Name: Tol...        report_card  \n",
      "16  SEMESTER RESULT\\n\\n \\n\\n \\n\\nStudent Name: Moh...        report_card  \n",
      "17  SEMESTER RESULT\\n\\n \\n\\n \\n\\nStudent Name: Aze...        report_card  \n",
      "18  SEMESTER RESULT\\n\\n \\n\\n \\n\\nStudent Name: Tom...        report_card  \n",
      "19  SEMESTER RESULT\\n\\n \\n\\n \\n\\nStudent Name: Gra...        report_card  \n",
      "20  SEMESTER RESULT\\n\\n \\n\\n \\n\\nStudent Name: Bak...        report_card  \n",
      "21  SEMESTER RESULT\\n\\n \\n\\n \\n\\nStudent Name: Ama...        report_card  \n"
     ]
    }
   ],
   "source": [
    "for dataFolder in dataFolders:\n",
    "    dataFolderExtractedData = []\n",
    "    for className in classes:\n",
    "    \n",
    "        imageClassFolderFilePath = os.path.join(ImageDataDirPath, dataFolder,className)\n",
    "        filesInImageClassFolder = os.listdir(imageClassFolderFilePath)\n",
    "        print(imageClassFolderFilePath)\n",
    "\n",
    "        filesInImageClassFolderPath = [os.path.join(imageClassFolderFilePath, f) for f in filesInImageClassFolder if f.endswith('.jpg')]\n",
    "        print(len(filesInImageClassFolderPath))\n",
    "        allClassExtractedData = extract_information(filesInImageClassFolderPath, dataFolder, className)\n",
    "        dataFolderExtractedData.extend(allClassExtractedData)\n",
    "    \n",
    "    if dataFolder == \"train\":\n",
    "        trainDataSet = pd.DataFrame(dataFolderExtractedData, columns = [\"file_name\", \"extracted_information\", \"class_name\"])\n",
    "        \n",
    "    elif dataFolder == \"test\":\n",
    "        testDataSet = pd.DataFrame(dataFolderExtractedData, columns = [\"file_name\", \"extracted_information\", \"class_name\"])\n",
    "        \n",
    "    elif dataFolder == \"val\":\n",
    "        valDataSet = pd.DataFrame(dataFolderExtractedData, columns = [\"file_name\", \"extracted_information\", \"class_name\"])\n",
    "        \n",
    "        \n",
    "        \n",
    "print(trainDataSet)\n",
    "print(testDataSet)\n",
    "print(valDataSet)"
   ]
  },
  {
   "cell_type": "markdown",
   "metadata": {
    "colab_type": "text",
    "id": "Z_egrNb_W_rb"
   },
   "source": [
    "## 1.4 Convert pandas dataframe to csv"
   ]
  },
  {
   "cell_type": "code",
   "execution_count": 14,
   "metadata": {},
   "outputs": [],
   "source": [
    "testDataSet.to_csv(\"test_data.csv\",index=False)\n",
    "trainDataSet.to_csv(\"train_data.csv\",index=False)\n",
    "valDataSet.to_csv(\"val_data.csv\",index=False)"
   ]
  }
 ],
 "metadata": {
  "accelerator": "GPU",
  "colab": {
   "name": "classification via NLP and information extraction.ipynb",
   "provenance": [],
   "toc_visible": true,
   "version": "0.3.2"
  },
  "kernelspec": {
   "display_name": "Python 3",
   "language": "python",
   "name": "python3"
  },
  "language_info": {
   "codemirror_mode": {
    "name": "ipython",
    "version": 3
   },
   "file_extension": ".py",
   "mimetype": "text/x-python",
   "name": "python",
   "nbconvert_exporter": "python",
   "pygments_lexer": "ipython3",
   "version": "3.7.3"
  }
 },
 "nbformat": 4,
 "nbformat_minor": 4
}
